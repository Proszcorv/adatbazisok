{
    "metadata": {
        "kernelspec": {
            "name": "SQL",
            "display_name": "SQL",
            "language": "sql"
        },
        "language_info": {
            "name": "sql",
            "version": ""
        }
    },
    "nbformat_minor": 2,
    "nbformat": 4,
    "cells": [
        {
            "cell_type": "code",
            "source": [
                "SELECT DATEDIFF(YEAR, SZUL_DAT, GETDATE()) AS 'Kor', COUNT(*) AS 'DB'\r\n",
                "FROM Vendeg\r\n",
                "WHERE DATEDIFF(YEAR, SZUL_DAT, GETDATE()) > 18\r\n",
                "GROUP BY DATEDIFF(YEAR, SZUL_DAT, GETDATE())\r\n",
                "HAVING COUNT(*) >= 5"
            ],
            "metadata": {
                "azdata_cell_guid": "becc2e95-318a-4c50-97be-1aba468d3cf7",
                "language": "sql"
            },
            "outputs": [
                {
                    "output_type": "display_data",
                    "data": {
                        "text/html": "(23 rows affected)"
                    },
                    "metadata": {}
                },
                {
                    "output_type": "display_data",
                    "data": {
                        "text/html": "Total execution time: 00:00:00.007"
                    },
                    "metadata": {}
                },
                {
                    "output_type": "execute_result",
                    "metadata": {},
                    "execution_count": 22,
                    "data": {
                        "application/vnd.dataresource+json": {
                            "schema": {
                                "fields": [
                                    {
                                        "name": "Kor"
                                    },
                                    {
                                        "name": "DB"
                                    }
                                ]
                            },
                            "data": [
                                {
                                    "Kor": "28",
                                    "DB": "12"
                                },
                                {
                                    "Kor": "29",
                                    "DB": "7"
                                },
                                {
                                    "Kor": "30",
                                    "DB": "6"
                                },
                                {
                                    "Kor": "32",
                                    "DB": "5"
                                },
                                {
                                    "Kor": "34",
                                    "DB": "6"
                                },
                                {
                                    "Kor": "35",
                                    "DB": "8"
                                },
                                {
                                    "Kor": "36",
                                    "DB": "7"
                                },
                                {
                                    "Kor": "37",
                                    "DB": "6"
                                },
                                {
                                    "Kor": "38",
                                    "DB": "5"
                                },
                                {
                                    "Kor": "39",
                                    "DB": "9"
                                },
                                {
                                    "Kor": "40",
                                    "DB": "6"
                                },
                                {
                                    "Kor": "41",
                                    "DB": "8"
                                },
                                {
                                    "Kor": "42",
                                    "DB": "8"
                                },
                                {
                                    "Kor": "45",
                                    "DB": "7"
                                },
                                {
                                    "Kor": "46",
                                    "DB": "7"
                                },
                                {
                                    "Kor": "47",
                                    "DB": "7"
                                },
                                {
                                    "Kor": "48",
                                    "DB": "5"
                                },
                                {
                                    "Kor": "49",
                                    "DB": "7"
                                },
                                {
                                    "Kor": "50",
                                    "DB": "10"
                                },
                                {
                                    "Kor": "54",
                                    "DB": "5"
                                },
                                {
                                    "Kor": "56",
                                    "DB": "8"
                                },
                                {
                                    "Kor": "57",
                                    "DB": "7"
                                },
                                {
                                    "Kor": "58",
                                    "DB": "8"
                                }
                            ]
                        },
                        "text/html": [
                            "<table>",
                            "<tr><th>Kor</th><th>DB</th></tr>",
                            "<tr><td>28</td><td>12</td></tr>",
                            "<tr><td>29</td><td>7</td></tr>",
                            "<tr><td>30</td><td>6</td></tr>",
                            "<tr><td>32</td><td>5</td></tr>",
                            "<tr><td>34</td><td>6</td></tr>",
                            "<tr><td>35</td><td>8</td></tr>",
                            "<tr><td>36</td><td>7</td></tr>",
                            "<tr><td>37</td><td>6</td></tr>",
                            "<tr><td>38</td><td>5</td></tr>",
                            "<tr><td>39</td><td>9</td></tr>",
                            "<tr><td>40</td><td>6</td></tr>",
                            "<tr><td>41</td><td>8</td></tr>",
                            "<tr><td>42</td><td>8</td></tr>",
                            "<tr><td>45</td><td>7</td></tr>",
                            "<tr><td>46</td><td>7</td></tr>",
                            "<tr><td>47</td><td>7</td></tr>",
                            "<tr><td>48</td><td>5</td></tr>",
                            "<tr><td>49</td><td>7</td></tr>",
                            "<tr><td>50</td><td>10</td></tr>",
                            "<tr><td>54</td><td>5</td></tr>",
                            "<tr><td>56</td><td>8</td></tr>",
                            "<tr><td>57</td><td>7</td></tr>",
                            "<tr><td>58</td><td>8</td></tr>",
                            "</table>"
                        ]
                    }
                }
            ],
            "execution_count": 22
        },
        {
            "cell_type": "code",
            "source": [
                "SELECT f.FOGLALAS_PK,\r\n",
                "CASE\r\n",
                "    WHEN (YEAR(SZUL_DAT) > 1985) THEN 'Fiatal'\r\n",
                "    WHEN (YEAR(SZUL_DAT) < 1970) THEN 'Idős'\r\n",
                "    ELSE 'Középkorú'\r\n",
                "END AS 'Kategória'\r\n",
                "FROM Vendeg v JOIN Foglalas f ON f.UGYFEL_FK = v.USERNEV\r\n",
                "WHERE f.FELNOTT_SZAM + f.GYERMEK_SZAM >= 2\r\n",
                ""
            ],
            "metadata": {
                "azdata_cell_guid": "9851186d-2d45-4335-82aa-61579577e0a0",
                "language": "sql",
                "tags": []
            },
            "outputs": [
                {
                    "output_type": "display_data",
                    "data": {
                        "text/html": "(880 rows affected)"
                    },
                    "metadata": {}
                },
                {
                    "output_type": "display_data",
                    "data": {
                        "text/html": "Total execution time: 00:00:00.016"
                    },
                    "metadata": {}
                },
                {
                    "output_type": "execute_result",
                    "metadata": {},
                    "execution_count": 27,
                    "data": {
                        "application/vnd.dataresource+json": {
                            "schema": {
                                "fields": [
                                    {
                                        "name": "FOGLALAS_PK"
                                    },
                                    {
                                        "name": "Kategória"
                                    }
                                ]
                            },
                            "data": [
                                {
                                    "FOGLALAS_PK": "869",
                                    "Kategória": "Fiatal"
                                },
                                {
                                    "FOGLALAS_PK": "1165",
                                    "Kategória": "Fiatal"
                                },
                                {
                                    "FOGLALAS_PK": "1046",
                                    "Kategória": "Középkorú"
                                },
                                {
                                    "FOGLALAS_PK": "1205",
                                    "Kategória": "Középkorú"
                                },
                                {
                                    "FOGLALAS_PK": "829",
                                    "Kategória": "Középkorú"
                                },
                                {
                                    "FOGLALAS_PK": "1281",
                                    "Kategória": "Középkorú"
                                },
                                {
                                    "FOGLALAS_PK": "1347",
                                    "Kategória": "Középkorú"
                                },
                                {
                                    "FOGLALAS_PK": "1435",
                                    "Kategória": "Középkorú"
                                },
                                {
                                    "FOGLALAS_PK": "1561",
                                    "Kategória": "Középkorú"
                                },
                                {
                                    "FOGLALAS_PK": "1261",
                                    "Kategória": "Középkorú"
                                },
                                {
                                    "FOGLALAS_PK": "738",
                                    "Kategória": "Középkorú"
                                },
                                {
                                    "FOGLALAS_PK": "628",
                                    "Kategória": "Középkorú"
                                },
                                {
                                    "FOGLALAS_PK": "666",
                                    "Kategória": "Középkorú"
                                },
                                {
                                    "FOGLALAS_PK": "1180",
                                    "Kategória": "Idős"
                                },
                                {
                                    "FOGLALAS_PK": "1544",
                                    "Kategória": "Idős"
                                },
                                {
                                    "FOGLALAS_PK": "1441",
                                    "Kategória": "Középkorú"
                                },
                                {
                                    "FOGLALAS_PK": "1417",
                                    "Kategória": "Középkorú"
                                },
                                {
                                    "FOGLALAS_PK": "606",
                                    "Kategória": "Középkorú"
                                },
                                {
                                    "FOGLALAS_PK": "571",
                                    "Kategória": "Középkorú"
                                },
                                {
                                    "FOGLALAS_PK": "736",
                                    "Kategória": "Fiatal"
                                },
                                {
                                    "FOGLALAS_PK": "1162",
                                    "Kategória": "Fiatal"
                                },
                                {
                                    "FOGLALAS_PK": "1371",
                                    "Kategória": "Fiatal"
                                },
                                {
                                    "FOGLALAS_PK": "1364",
                                    "Kategória": "Középkorú"
                                },
                                {
                                    "FOGLALAS_PK": "1299",
                                    "Kategória": "Középkorú"
                                },
                                {
                                    "FOGLALAS_PK": "1406",
                                    "Kategória": "Középkorú"
                                },
                                {
                                    "FOGLALAS_PK": "1164",
                                    "Kategória": "Középkorú"
                                },
                                {
                                    "FOGLALAS_PK": "1122",
                                    "Kategória": "Középkorú"
                                },
                                {
                                    "FOGLALAS_PK": "673",
                                    "Kategória": "Középkorú"
                                },
                                {
                                    "FOGLALAS_PK": "676",
                                    "Kategória": "Középkorú"
                                },
                                {
                                    "FOGLALAS_PK": "655",
                                    "Kategória": "Középkorú"
                                },
                                {
                                    "FOGLALAS_PK": "1302",
                                    "Kategória": "Középkorú"
                                },
                                {
                                    "FOGLALAS_PK": "1332",
                                    "Kategória": "Fiatal"
                                },
                                {
                                    "FOGLALAS_PK": "1457",
                                    "Kategória": "Fiatal"
                                },
                                {
                                    "FOGLALAS_PK": "658",
                                    "Kategória": "Fiatal"
                                },
                                {
                                    "FOGLALAS_PK": "727",
                                    "Kategória": "Fiatal"
                                },
                                {
                                    "FOGLALAS_PK": "1175",
                                    "Kategória": "Fiatal"
                                },
                                {
                                    "FOGLALAS_PK": "937",
                                    "Kategória": "Fiatal"
                                },
                                {
                                    "FOGLALAS_PK": "1049",
                                    "Kategória": "Idős"
                                },
                                {
                                    "FOGLALAS_PK": "624",
                                    "Kategória": "Idős"
                                },
                                {
                                    "FOGLALAS_PK": "1437",
                                    "Kategória": "Idős"
                                },
                                {
                                    "FOGLALAS_PK": "1286",
                                    "Kategória": "Idős"
                                },
                                {
                                    "FOGLALAS_PK": "1511",
                                    "Kategória": "Fiatal"
                                },
                                {
                                    "FOGLALAS_PK": "693",
                                    "Kategória": "Fiatal"
                                },
                                {
                                    "FOGLALAS_PK": "1126",
                                    "Kategória": "Fiatal"
                                },
                                {
                                    "FOGLALAS_PK": "1092",
                                    "Kategória": "Fiatal"
                                },
                                {
                                    "FOGLALAS_PK": "1101",
                                    "Kategória": "Középkorú"
                                },
                                {
                                    "FOGLALAS_PK": "1121",
                                    "Kategória": "Középkorú"
                                },
                                {
                                    "FOGLALAS_PK": "1009",
                                    "Kategória": "Középkorú"
                                },
                                {
                                    "FOGLALAS_PK": "975",
                                    "Kategória": "Középkorú"
                                },
                                {
                                    "FOGLALAS_PK": "1478",
                                    "Kategória": "Középkorú"
                                },
                                {
                                    "FOGLALAS_PK": "1310",
                                    "Kategória": "Középkorú"
                                },
                                {
                                    "FOGLALAS_PK": "1328",
                                    "Kategória": "Középkorú"
                                },
                                {
                                    "FOGLALAS_PK": "1489",
                                    "Kategória": "Középkorú"
                                },
                                {
                                    "FOGLALAS_PK": "701",
                                    "Kategória": "Középkorú"
                                },
                                {
                                    "FOGLALAS_PK": "674",
                                    "Kategória": "Középkorú"
                                },
                                {
                                    "FOGLALAS_PK": "611",
                                    "Kategória": "Középkorú"
                                },
                                {
                                    "FOGLALAS_PK": "837",
                                    "Kategória": "Középkorú"
                                },
                                {
                                    "FOGLALAS_PK": "1059",
                                    "Kategória": "Középkorú"
                                },
                                {
                                    "FOGLALAS_PK": "1427",
                                    "Kategória": "Középkorú"
                                },
                                {
                                    "FOGLALAS_PK": "1317",
                                    "Kategória": "Középkorú"
                                },
                                {
                                    "FOGLALAS_PK": "1298",
                                    "Kategória": "Fiatal"
                                },
                                {
                                    "FOGLALAS_PK": "983",
                                    "Kategória": "Fiatal"
                                },
                                {
                                    "FOGLALAS_PK": "927",
                                    "Kategória": "Fiatal"
                                },
                                {
                                    "FOGLALAS_PK": "1142",
                                    "Kategória": "Fiatal"
                                },
                                {
                                    "FOGLALAS_PK": "1094",
                                    "Kategória": "Fiatal"
                                },
                                {
                                    "FOGLALAS_PK": "1153",
                                    "Kategória": "Fiatal"
                                },
                                {
                                    "FOGLALAS_PK": "731",
                                    "Kategória": "Fiatal"
                                },
                                {
                                    "FOGLALAS_PK": "796",
                                    "Kategória": "Fiatal"
                                },
                                {
                                    "FOGLALAS_PK": "662",
                                    "Kategória": "Fiatal"
                                },
                                {
                                    "FOGLALAS_PK": "643",
                                    "Kategória": "Fiatal"
                                },
                                {
                                    "FOGLALAS_PK": "786",
                                    "Kategória": "Fiatal"
                                },
                                {
                                    "FOGLALAS_PK": "1014",
                                    "Kategória": "Fiatal"
                                },
                                {
                                    "FOGLALAS_PK": "1330",
                                    "Kategória": "Fiatal"
                                },
                                {
                                    "FOGLALAS_PK": "1297",
                                    "Kategória": "Fiatal"
                                },
                                {
                                    "FOGLALAS_PK": "1319",
                                    "Kategória": "Középkorú"
                                },
                                {
                                    "FOGLALAS_PK": "1514",
                                    "Kategória": "Fiatal"
                                },
                                {
                                    "FOGLALAS_PK": "1173",
                                    "Kategória": "Fiatal"
                                },
                                {
                                    "FOGLALAS_PK": "722",
                                    "Kategória": "Fiatal"
                                },
                                {
                                    "FOGLALAS_PK": "744",
                                    "Kategória": "Fiatal"
                                },
                                {
                                    "FOGLALAS_PK": "826",
                                    "Kategória": "Fiatal"
                                },
                                {
                                    "FOGLALAS_PK": "809",
                                    "Kategória": "Fiatal"
                                },
                                {
                                    "FOGLALAS_PK": "1295",
                                    "Kategória": "Fiatal"
                                },
                                {
                                    "FOGLALAS_PK": "1232",
                                    "Kategória": "Középkorú"
                                },
                                {
                                    "FOGLALAS_PK": "1464",
                                    "Kategória": "Középkorú"
                                },
                                {
                                    "FOGLALAS_PK": "1047",
                                    "Kategória": "Középkorú"
                                },
                                {
                                    "FOGLALAS_PK": "1053",
                                    "Kategória": "Fiatal"
                                },
                                {
                                    "FOGLALAS_PK": "1128",
                                    "Kategória": "Fiatal"
                                },
                                {
                                    "FOGLALAS_PK": "725",
                                    "Kategória": "Fiatal"
                                },
                                {
                                    "FOGLALAS_PK": "793",
                                    "Kategória": "Idős"
                                },
                                {
                                    "FOGLALAS_PK": "780",
                                    "Kategória": "Idős"
                                },
                                {
                                    "FOGLALAS_PK": "607",
                                    "Kategória": "Idős"
                                },
                                {
                                    "FOGLALAS_PK": "578",
                                    "Kategória": "Idős"
                                },
                                {
                                    "FOGLALAS_PK": "581",
                                    "Kategória": "Idős"
                                },
                                {
                                    "FOGLALAS_PK": "1149",
                                    "Kategória": "Idős"
                                },
                                {
                                    "FOGLALAS_PK": "986",
                                    "Kategória": "Középkorú"
                                },
                                {
                                    "FOGLALAS_PK": "1519",
                                    "Kategória": "Középkorú"
                                },
                                {
                                    "FOGLALAS_PK": "1560",
                                    "Kategória": "Középkorú"
                                },
                                {
                                    "FOGLALAS_PK": "1031",
                                    "Kategória": "Középkorú"
                                },
                                {
                                    "FOGLALAS_PK": "1158",
                                    "Kategória": "Középkorú"
                                },
                                {
                                    "FOGLALAS_PK": "704",
                                    "Kategória": "Középkorú"
                                },
                                {
                                    "FOGLALAS_PK": "679",
                                    "Kategória": "Fiatal"
                                },
                                {
                                    "FOGLALAS_PK": "590",
                                    "Kategória": "Fiatal"
                                },
                                {
                                    "FOGLALAS_PK": "827",
                                    "Kategória": "Fiatal"
                                },
                                {
                                    "FOGLALAS_PK": "855",
                                    "Kategória": "Fiatal"
                                },
                                {
                                    "FOGLALAS_PK": "1216",
                                    "Kategória": "Fiatal"
                                },
                                {
                                    "FOGLALAS_PK": "1132",
                                    "Kategória": "Fiatal"
                                },
                                {
                                    "FOGLALAS_PK": "988",
                                    "Kategória": "Fiatal"
                                },
                                {
                                    "FOGLALAS_PK": "1271",
                                    "Kategória": "Fiatal"
                                },
                                {
                                    "FOGLALAS_PK": "1551",
                                    "Kategória": "Középkorú"
                                },
                                {
                                    "FOGLALAS_PK": "1553",
                                    "Kategória": "Középkorú"
                                },
                                {
                                    "FOGLALAS_PK": "1113",
                                    "Kategória": "Középkorú"
                                },
                                {
                                    "FOGLALAS_PK": "1085",
                                    "Kategória": "Középkorú"
                                },
                                {
                                    "FOGLALAS_PK": "921",
                                    "Kategória": "Fiatal"
                                },
                                {
                                    "FOGLALAS_PK": "1483",
                                    "Kategória": "Fiatal"
                                },
                                {
                                    "FOGLALAS_PK": "1539",
                                    "Kategória": "Középkorú"
                                },
                                {
                                    "FOGLALAS_PK": "1432",
                                    "Kategória": "Középkorú"
                                },
                                {
                                    "FOGLALAS_PK": "1274",
                                    "Kategória": "Középkorú"
                                },
                                {
                                    "FOGLALAS_PK": "936",
                                    "Kategória": "Középkorú"
                                },
                                {
                                    "FOGLALAS_PK": "1075",
                                    "Kategória": "Középkorú"
                                },
                                {
                                    "FOGLALAS_PK": "1182",
                                    "Kategória": "Középkorú"
                                },
                                {
                                    "FOGLALAS_PK": "1007",
                                    "Kategória": "Középkorú"
                                },
                                {
                                    "FOGLALAS_PK": "576",
                                    "Kategória": "Középkorú"
                                },
                                {
                                    "FOGLALAS_PK": "1249",
                                    "Kategória": "Középkorú"
                                },
                                {
                                    "FOGLALAS_PK": "1453",
                                    "Kategória": "Középkorú"
                                },
                                {
                                    "FOGLALAS_PK": "1573",
                                    "Kategória": "Középkorú"
                                },
                                {
                                    "FOGLALAS_PK": "1558",
                                    "Kategória": "Fiatal"
                                },
                                {
                                    "FOGLALAS_PK": "1412",
                                    "Kategória": "Fiatal"
                                },
                                {
                                    "FOGLALAS_PK": "1485",
                                    "Kategória": "Fiatal"
                                },
                                {
                                    "FOGLALAS_PK": "1248",
                                    "Kategória": "Fiatal"
                                },
                                {
                                    "FOGLALAS_PK": "1240",
                                    "Kategória": "Fiatal"
                                },
                                {
                                    "FOGLALAS_PK": "1353",
                                    "Kategória": "Fiatal"
                                },
                                {
                                    "FOGLALAS_PK": "559",
                                    "Kategória": "Fiatal"
                                },
                                {
                                    "FOGLALAS_PK": "645",
                                    "Kategória": "Fiatal"
                                },
                                {
                                    "FOGLALAS_PK": "758",
                                    "Kategória": "Fiatal"
                                },
                                {
                                    "FOGLALAS_PK": "1003",
                                    "Kategória": "Fiatal"
                                },
                                {
                                    "FOGLALAS_PK": "1037",
                                    "Kategória": "Fiatal"
                                },
                                {
                                    "FOGLALAS_PK": "932",
                                    "Kategória": "Fiatal"
                                },
                                {
                                    "FOGLALAS_PK": "902",
                                    "Kategória": "Fiatal"
                                },
                                {
                                    "FOGLALAS_PK": "908",
                                    "Kategória": "Fiatal"
                                },
                                {
                                    "FOGLALAS_PK": "1150",
                                    "Kategória": "Fiatal"
                                },
                                {
                                    "FOGLALAS_PK": "1084",
                                    "Kategória": "Fiatal"
                                },
                                {
                                    "FOGLALAS_PK": "811",
                                    "Kategória": "Fiatal"
                                },
                                {
                                    "FOGLALAS_PK": "1387",
                                    "Kategória": "Fiatal"
                                },
                                {
                                    "FOGLALAS_PK": "1256",
                                    "Kategória": "Fiatal"
                                },
                                {
                                    "FOGLALAS_PK": "1550",
                                    "Kategória": "Fiatal"
                                },
                                {
                                    "FOGLALAS_PK": "1538",
                                    "Kategória": "Fiatal"
                                },
                                {
                                    "FOGLALAS_PK": "1377",
                                    "Kategória": "Fiatal"
                                },
                                {
                                    "FOGLALAS_PK": "670",
                                    "Kategória": "Fiatal"
                                },
                                {
                                    "FOGLALAS_PK": "912",
                                    "Kategória": "Fiatal"
                                },
                                {
                                    "FOGLALAS_PK": "873",
                                    "Kategória": "Fiatal"
                                },
                                {
                                    "FOGLALAS_PK": "771",
                                    "Kategória": "Fiatal"
                                },
                                {
                                    "FOGLALAS_PK": "1361",
                                    "Kategória": "Fiatal"
                                },
                                {
                                    "FOGLALAS_PK": "1268",
                                    "Kategória": "Fiatal"
                                },
                                {
                                    "FOGLALAS_PK": "1522",
                                    "Kategória": "Fiatal"
                                },
                                {
                                    "FOGLALAS_PK": "1383",
                                    "Kategória": "Középkorú"
                                },
                                {
                                    "FOGLALAS_PK": "1090",
                                    "Kategória": "Középkorú"
                                },
                                {
                                    "FOGLALAS_PK": "1135",
                                    "Kategória": "Középkorú"
                                },
                                {
                                    "FOGLALAS_PK": "1152",
                                    "Kategória": "Középkorú"
                                },
                                {
                                    "FOGLALAS_PK": "1219",
                                    "Kategória": "Középkorú"
                                },
                                {
                                    "FOGLALAS_PK": "1270",
                                    "Kategória": "Középkorú"
                                },
                                {
                                    "FOGLALAS_PK": "1468",
                                    "Kategória": "Középkorú"
                                },
                                {
                                    "FOGLALAS_PK": "1408",
                                    "Kategória": "Középkorú"
                                },
                                {
                                    "FOGLALAS_PK": "1535",
                                    "Kategória": "Középkorú"
                                },
                                {
                                    "FOGLALAS_PK": "797",
                                    "Kategória": "Középkorú"
                                },
                                {
                                    "FOGLALAS_PK": "660",
                                    "Kategória": "Fiatal"
                                },
                                {
                                    "FOGLALAS_PK": "903",
                                    "Kategória": "Fiatal"
                                },
                                {
                                    "FOGLALAS_PK": "1231",
                                    "Kategória": "Fiatal"
                                },
                                {
                                    "FOGLALAS_PK": "1559",
                                    "Kategória": "Fiatal"
                                },
                                {
                                    "FOGLALAS_PK": "1518",
                                    "Kategória": "Fiatal"
                                },
                                {
                                    "FOGLALAS_PK": "1515",
                                    "Kategória": "Fiatal"
                                },
                                {
                                    "FOGLALAS_PK": "1399",
                                    "Kategória": "Fiatal"
                                },
                                {
                                    "FOGLALAS_PK": "1410",
                                    "Kategória": "Fiatal"
                                },
                                {
                                    "FOGLALAS_PK": "703",
                                    "Kategória": "Fiatal"
                                },
                                {
                                    "FOGLALAS_PK": "622",
                                    "Kategória": "Fiatal"
                                },
                                {
                                    "FOGLALAS_PK": "582",
                                    "Kategória": "Középkorú"
                                },
                                {
                                    "FOGLALAS_PK": "691",
                                    "Kategória": "Középkorú"
                                },
                                {
                                    "FOGLALAS_PK": "851",
                                    "Kategória": "Középkorú"
                                },
                                {
                                    "FOGLALAS_PK": "863",
                                    "Kategória": "Középkorú"
                                },
                                {
                                    "FOGLALAS_PK": "805",
                                    "Kategória": "Középkorú"
                                },
                                {
                                    "FOGLALAS_PK": "1045",
                                    "Kategória": "Középkorú"
                                },
                                {
                                    "FOGLALAS_PK": "1019",
                                    "Kategória": "Középkorú"
                                },
                                {
                                    "FOGLALAS_PK": "1023",
                                    "Kategória": "Középkorú"
                                },
                                {
                                    "FOGLALAS_PK": "1239",
                                    "Kategória": "Középkorú"
                                },
                                {
                                    "FOGLALAS_PK": "1346",
                                    "Kategória": "Fiatal"
                                },
                                {
                                    "FOGLALAS_PK": "1459",
                                    "Kategória": "Fiatal"
                                },
                                {
                                    "FOGLALAS_PK": "1054",
                                    "Kategória": "Fiatal"
                                },
                                {
                                    "FOGLALAS_PK": "816",
                                    "Kategória": "Fiatal"
                                },
                                {
                                    "FOGLALAS_PK": "728",
                                    "Kategória": "Fiatal"
                                },
                                {
                                    "FOGLALAS_PK": "678",
                                    "Kategória": "Fiatal"
                                },
                                {
                                    "FOGLALAS_PK": "595",
                                    "Kategória": "Fiatal"
                                },
                                {
                                    "FOGLALAS_PK": "1137",
                                    "Kategória": "Fiatal"
                                },
                                {
                                    "FOGLALAS_PK": "1315",
                                    "Kategória": "Fiatal"
                                },
                                {
                                    "FOGLALAS_PK": "1376",
                                    "Kategória": "Fiatal"
                                },
                                {
                                    "FOGLALAS_PK": "1257",
                                    "Kategória": "Fiatal"
                                },
                                {
                                    "FOGLALAS_PK": "1416",
                                    "Kategória": "Fiatal"
                                },
                                {
                                    "FOGLALAS_PK": "1404",
                                    "Kategória": "Fiatal"
                                },
                                {
                                    "FOGLALAS_PK": "924",
                                    "Kategória": "Fiatal"
                                },
                                {
                                    "FOGLALAS_PK": "933",
                                    "Kategória": "Fiatal"
                                },
                                {
                                    "FOGLALAS_PK": "717",
                                    "Kategória": "Fiatal"
                                },
                                {
                                    "FOGLALAS_PK": "752",
                                    "Kategória": "Fiatal"
                                },
                                {
                                    "FOGLALAS_PK": "1341",
                                    "Kategória": "Fiatal"
                                },
                                {
                                    "FOGLALAS_PK": "1382",
                                    "Kategória": "Középkorú"
                                },
                                {
                                    "FOGLALAS_PK": "760",
                                    "Kategória": "Középkorú"
                                },
                                {
                                    "FOGLALAS_PK": "823",
                                    "Kategória": "Fiatal"
                                },
                                {
                                    "FOGLALAS_PK": "896",
                                    "Kategória": "Fiatal"
                                },
                                {
                                    "FOGLALAS_PK": "591",
                                    "Kategória": "Fiatal"
                                },
                                {
                                    "FOGLALAS_PK": "1117",
                                    "Kategória": "Fiatal"
                                },
                                {
                                    "FOGLALAS_PK": "1185",
                                    "Kategória": "Középkorú"
                                },
                                {
                                    "FOGLALAS_PK": "941",
                                    "Kategória": "Középkorú"
                                },
                                {
                                    "FOGLALAS_PK": "944",
                                    "Kategória": "Középkorú"
                                },
                                {
                                    "FOGLALAS_PK": "972",
                                    "Kategória": "Középkorú"
                                },
                                {
                                    "FOGLALAS_PK": "768",
                                    "Kategória": "Középkorú"
                                },
                                {
                                    "FOGLALAS_PK": "1370",
                                    "Kategória": "Középkorú"
                                },
                                {
                                    "FOGLALAS_PK": "1359",
                                    "Kategória": "Középkorú"
                                },
                                {
                                    "FOGLALAS_PK": "1279",
                                    "Kategória": "Középkorú"
                                },
                                {
                                    "FOGLALAS_PK": "1512",
                                    "Kategória": "Középkorú"
                                },
                                {
                                    "FOGLALAS_PK": "1490",
                                    "Kategória": "Középkorú"
                                },
                                {
                                    "FOGLALAS_PK": "1381",
                                    "Kategória": "Középkorú"
                                },
                                {
                                    "FOGLALAS_PK": "952",
                                    "Kategória": "Középkorú"
                                },
                                {
                                    "FOGLALAS_PK": "1098",
                                    "Kategória": "Középkorú"
                                },
                                {
                                    "FOGLALAS_PK": "1099",
                                    "Kategória": "Középkorú"
                                },
                                {
                                    "FOGLALAS_PK": "737",
                                    "Kategória": "Fiatal"
                                },
                                {
                                    "FOGLALAS_PK": "838",
                                    "Kategória": "Fiatal"
                                },
                                {
                                    "FOGLALAS_PK": "719",
                                    "Kategória": "Fiatal"
                                },
                                {
                                    "FOGLALAS_PK": "1337",
                                    "Kategória": "Fiatal"
                                },
                                {
                                    "FOGLALAS_PK": "1238",
                                    "Kategória": "Fiatal"
                                },
                                {
                                    "FOGLALAS_PK": "1368",
                                    "Kategória": "Fiatal"
                                },
                                {
                                    "FOGLALAS_PK": "1501",
                                    "Kategória": "Fiatal"
                                },
                                {
                                    "FOGLALAS_PK": "1400",
                                    "Kategória": "Fiatal"
                                },
                                {
                                    "FOGLALAS_PK": "713",
                                    "Kategória": "Fiatal"
                                },
                                {
                                    "FOGLALAS_PK": "714",
                                    "Kategória": "Fiatal"
                                },
                                {
                                    "FOGLALAS_PK": "626",
                                    "Kategória": "Fiatal"
                                },
                                {
                                    "FOGLALAS_PK": "847",
                                    "Kategória": "Fiatal"
                                },
                                {
                                    "FOGLALAS_PK": "1220",
                                    "Kategória": "Fiatal"
                                },
                                {
                                    "FOGLALAS_PK": "1179",
                                    "Kategória": "Középkorú"
                                },
                                {
                                    "FOGLALAS_PK": "900",
                                    "Kategória": "Középkorú"
                                },
                                {
                                    "FOGLALAS_PK": "745",
                                    "Kategória": "Középkorú"
                                },
                                {
                                    "FOGLALAS_PK": "646",
                                    "Kategória": "Középkorú"
                                },
                                {
                                    "FOGLALAS_PK": "1521",
                                    "Kategória": "Középkorú"
                                },
                                {
                                    "FOGLALAS_PK": "1326",
                                    "Kategória": "Középkorú"
                                },
                                {
                                    "FOGLALAS_PK": "1533",
                                    "Kategória": "Középkorú"
                                },
                                {
                                    "FOGLALAS_PK": "953",
                                    "Kategória": "Középkorú"
                                },
                                {
                                    "FOGLALAS_PK": "1155",
                                    "Kategória": "Középkorú"
                                },
                                {
                                    "FOGLALAS_PK": "1210",
                                    "Kategória": "Középkorú"
                                },
                                {
                                    "FOGLALAS_PK": "1200",
                                    "Kategória": "Középkorú"
                                },
                                {
                                    "FOGLALAS_PK": "1130",
                                    "Kategória": "Középkorú"
                                },
                                {
                                    "FOGLALAS_PK": "1229",
                                    "Kategória": "Fiatal"
                                },
                                {
                                    "FOGLALAS_PK": "969",
                                    "Kategória": "Fiatal"
                                },
                                {
                                    "FOGLALAS_PK": "1035",
                                    "Kategória": "Fiatal"
                                },
                                {
                                    "FOGLALAS_PK": "612",
                                    "Kategória": "Fiatal"
                                },
                                {
                                    "FOGLALAS_PK": "824",
                                    "Kategória": "Fiatal"
                                },
                                {
                                    "FOGLALAS_PK": "812",
                                    "Kategória": "Fiatal"
                                },
                                {
                                    "FOGLALAS_PK": "1472",
                                    "Kategória": "Fiatal"
                                },
                                {
                                    "FOGLALAS_PK": "1411",
                                    "Kategória": "Fiatal"
                                },
                                {
                                    "FOGLALAS_PK": "1477",
                                    "Kategória": "Fiatal"
                                },
                                {
                                    "FOGLALAS_PK": "584",
                                    "Kategória": "Fiatal"
                                },
                                {
                                    "FOGLALAS_PK": "570",
                                    "Kategória": "Fiatal"
                                },
                                {
                                    "FOGLALAS_PK": "942",
                                    "Kategória": "Fiatal"
                                },
                                {
                                    "FOGLALAS_PK": "925",
                                    "Kategória": "Fiatal"
                                },
                                {
                                    "FOGLALAS_PK": "1120",
                                    "Kategória": "Fiatal"
                                },
                                {
                                    "FOGLALAS_PK": "654",
                                    "Kategória": "Középkorú"
                                },
                                {
                                    "FOGLALAS_PK": "1536",
                                    "Kategória": "Középkorú"
                                },
                                {
                                    "FOGLALAS_PK": "1322",
                                    "Kategória": "Középkorú"
                                },
                                {
                                    "FOGLALAS_PK": "1241",
                                    "Kategória": "Középkorú"
                                },
                                {
                                    "FOGLALAS_PK": "1555",
                                    "Kategória": "Középkorú"
                                },
                                {
                                    "FOGLALAS_PK": "1373",
                                    "Kategória": "Középkorú"
                                },
                                {
                                    "FOGLALAS_PK": "832",
                                    "Kategória": "Középkorú"
                                },
                                {
                                    "FOGLALAS_PK": "876",
                                    "Kategória": "Középkorú"
                                },
                                {
                                    "FOGLALAS_PK": "1174",
                                    "Kategória": "Középkorú"
                                },
                                {
                                    "FOGLALAS_PK": "1147",
                                    "Kategória": "Fiatal"
                                },
                                {
                                    "FOGLALAS_PK": "957",
                                    "Kategória": "Fiatal"
                                },
                                {
                                    "FOGLALAS_PK": "886",
                                    "Kategória": "Fiatal"
                                },
                                {
                                    "FOGLALAS_PK": "1243",
                                    "Kategória": "Fiatal"
                                },
                                {
                                    "FOGLALAS_PK": "1513",
                                    "Kategória": "Fiatal"
                                },
                                {
                                    "FOGLALAS_PK": "1531",
                                    "Kategória": "Középkorú"
                                },
                                {
                                    "FOGLALAS_PK": "1277",
                                    "Kategória": "Középkorú"
                                },
                                {
                                    "FOGLALAS_PK": "613",
                                    "Kategória": "Középkorú"
                                },
                                {
                                    "FOGLALAS_PK": "623",
                                    "Kategória": "Középkorú"
                                },
                                {
                                    "FOGLALAS_PK": "951",
                                    "Kategória": "Középkorú"
                                },
                                {
                                    "FOGLALAS_PK": "943",
                                    "Kategória": "Középkorú"
                                },
                                {
                                    "FOGLALAS_PK": "906",
                                    "Kategória": "Középkorú"
                                },
                                {
                                    "FOGLALAS_PK": "1021",
                                    "Kategória": "Középkorú"
                                },
                                {
                                    "FOGLALAS_PK": "1024",
                                    "Kategória": "Fiatal"
                                },
                                {
                                    "FOGLALAS_PK": "1068",
                                    "Kategória": "Fiatal"
                                },
                                {
                                    "FOGLALAS_PK": "909",
                                    "Kategória": "Fiatal"
                                },
                                {
                                    "FOGLALAS_PK": "761",
                                    "Kategória": "Fiatal"
                                },
                                {
                                    "FOGLALAS_PK": "1303",
                                    "Kategória": "Fiatal"
                                },
                                {
                                    "FOGLALAS_PK": "1451",
                                    "Kategória": "Fiatal"
                                },
                                {
                                    "FOGLALAS_PK": "1571",
                                    "Kategória": "Fiatal"
                                },
                                {
                                    "FOGLALAS_PK": "1395",
                                    "Kategória": "Középkorú"
                                },
                                {
                                    "FOGLALAS_PK": "1520",
                                    "Kategória": "Középkorú"
                                },
                                {
                                    "FOGLALAS_PK": "1554",
                                    "Kategória": "Középkorú"
                                },
                                {
                                    "FOGLALAS_PK": "1278",
                                    "Kategória": "Középkorú"
                                },
                                {
                                    "FOGLALAS_PK": "594",
                                    "Kategória": "Középkorú"
                                },
                                {
                                    "FOGLALAS_PK": "629",
                                    "Kategória": "Középkorú"
                                },
                                {
                                    "FOGLALAS_PK": "575",
                                    "Kategória": "Középkorú"
                                },
                                {
                                    "FOGLALAS_PK": "1036",
                                    "Kategória": "Középkorú"
                                },
                                {
                                    "FOGLALAS_PK": "573",
                                    "Kategória": "Idős"
                                },
                                {
                                    "FOGLALAS_PK": "635",
                                    "Kategória": "Idős"
                                },
                                {
                                    "FOGLALAS_PK": "859",
                                    "Kategória": "Idős"
                                },
                                {
                                    "FOGLALAS_PK": "1269",
                                    "Kategória": "Idős"
                                },
                                {
                                    "FOGLALAS_PK": "1309",
                                    "Kategória": "Idős"
                                },
                                {
                                    "FOGLALAS_PK": "1419",
                                    "Kategória": "Idős"
                                },
                                {
                                    "FOGLALAS_PK": "1580",
                                    "Kategória": "Idős"
                                },
                                {
                                    "FOGLALAS_PK": "1454",
                                    "Kategória": "Középkorú"
                                },
                                {
                                    "FOGLALAS_PK": "807",
                                    "Kategória": "Középkorú"
                                },
                                {
                                    "FOGLALAS_PK": "801",
                                    "Kategória": "Középkorú"
                                },
                                {
                                    "FOGLALAS_PK": "653",
                                    "Kategória": "Középkorú"
                                },
                                {
                                    "FOGLALAS_PK": "681",
                                    "Kategória": "Középkorú"
                                },
                                {
                                    "FOGLALAS_PK": "994",
                                    "Kategória": "Középkorú"
                                },
                                {
                                    "FOGLALAS_PK": "938",
                                    "Kategória": "Középkorú"
                                },
                                {
                                    "FOGLALAS_PK": "1227",
                                    "Kategória": "Középkorú"
                                },
                                {
                                    "FOGLALAS_PK": "1104",
                                    "Kategória": "Középkorú"
                                },
                                {
                                    "FOGLALAS_PK": "1072",
                                    "Kategória": "Középkorú"
                                },
                                {
                                    "FOGLALAS_PK": "1407",
                                    "Kategória": "Középkorú"
                                },
                                {
                                    "FOGLALAS_PK": "1546",
                                    "Kategória": "Középkorú"
                                },
                                {
                                    "FOGLALAS_PK": "1296",
                                    "Kategória": "Középkorú"
                                },
                                {
                                    "FOGLALAS_PK": "1572",
                                    "Kategória": "Középkorú"
                                },
                                {
                                    "FOGLALAS_PK": "1540",
                                    "Kategória": "Fiatal"
                                },
                                {
                                    "FOGLALAS_PK": "1494",
                                    "Kategória": "Középkorú"
                                },
                                {
                                    "FOGLALAS_PK": "1470",
                                    "Kategória": "Középkorú"
                                },
                                {
                                    "FOGLALAS_PK": "1214",
                                    "Kategória": "Középkorú"
                                },
                                {
                                    "FOGLALAS_PK": "977",
                                    "Kategória": "Középkorú"
                                },
                                {
                                    "FOGLALAS_PK": "690",
                                    "Kategória": "Középkorú"
                                },
                                {
                                    "FOGLALAS_PK": "804",
                                    "Kategória": "Középkorú"
                                },
                                {
                                    "FOGLALAS_PK": "783",
                                    "Kategória": "Középkorú"
                                },
                                {
                                    "FOGLALAS_PK": "746",
                                    "Kategória": "Középkorú"
                                },
                                {
                                    "FOGLALAS_PK": "862",
                                    "Kategória": "Középkorú"
                                },
                                {
                                    "FOGLALAS_PK": "1254",
                                    "Kategória": "Középkorú"
                                },
                                {
                                    "FOGLALAS_PK": "1304",
                                    "Kategória": "Fiatal"
                                },
                                {
                                    "FOGLALAS_PK": "825",
                                    "Kategória": "Fiatal"
                                },
                                {
                                    "FOGLALAS_PK": "785",
                                    "Kategória": "Fiatal"
                                },
                                {
                                    "FOGLALAS_PK": "1215",
                                    "Kategória": "Fiatal"
                                },
                                {
                                    "FOGLALAS_PK": "1140",
                                    "Kategória": "Fiatal"
                                },
                                {
                                    "FOGLALAS_PK": "1065",
                                    "Kategória": "Középkorú"
                                },
                                {
                                    "FOGLALAS_PK": "1061",
                                    "Kategória": "Középkorú"
                                },
                                {
                                    "FOGLALAS_PK": "773",
                                    "Kategória": "Középkorú"
                                },
                                {
                                    "FOGLALAS_PK": "750",
                                    "Kategória": "Középkorú"
                                },
                                {
                                    "FOGLALAS_PK": "672",
                                    "Kategória": "Középkorú"
                                },
                                {
                                    "FOGLALAS_PK": "1440",
                                    "Kategória": "Középkorú"
                                },
                                {
                                    "FOGLALAS_PK": "1509",
                                    "Kategória": "Középkorú"
                                },
                                {
                                    "FOGLALAS_PK": "1484",
                                    "Kategória": "Fiatal"
                                },
                                {
                                    "FOGLALAS_PK": "1313",
                                    "Kategória": "Fiatal"
                                },
                                {
                                    "FOGLALAS_PK": "1354",
                                    "Kategória": "Fiatal"
                                },
                                {
                                    "FOGLALAS_PK": "706",
                                    "Kategória": "Fiatal"
                                },
                                {
                                    "FOGLALAS_PK": "765",
                                    "Kategória": "Fiatal"
                                },
                                {
                                    "FOGLALAS_PK": "1083",
                                    "Kategória": "Fiatal"
                                },
                                {
                                    "FOGLALAS_PK": "1119",
                                    "Kategória": "Fiatal"
                                },
                                {
                                    "FOGLALAS_PK": "1193",
                                    "Kategória": "Fiatal"
                                },
                                {
                                    "FOGLALAS_PK": "772",
                                    "Kategória": "Fiatal"
                                },
                                {
                                    "FOGLALAS_PK": "1385",
                                    "Kategória": "Fiatal"
                                },
                                {
                                    "FOGLALAS_PK": "1345",
                                    "Kategória": "Fiatal"
                                },
                                {
                                    "FOGLALAS_PK": "1246",
                                    "Kategória": "Fiatal"
                                },
                                {
                                    "FOGLALAS_PK": "1097",
                                    "Kategória": "Fiatal"
                                },
                                {
                                    "FOGLALAS_PK": "993",
                                    "Kategória": "Fiatal"
                                },
                                {
                                    "FOGLALAS_PK": "1475",
                                    "Kategória": "Fiatal"
                                },
                                {
                                    "FOGLALAS_PK": "1421",
                                    "Kategória": "Fiatal"
                                },
                                {
                                    "FOGLALAS_PK": "1574",
                                    "Kategória": "Fiatal"
                                },
                                {
                                    "FOGLALAS_PK": "1516",
                                    "Kategória": "Középkorú"
                                },
                                {
                                    "FOGLALAS_PK": "1235",
                                    "Kategória": "Középkorú"
                                },
                                {
                                    "FOGLALAS_PK": "874",
                                    "Kategória": "Középkorú"
                                },
                                {
                                    "FOGLALAS_PK": "688",
                                    "Kategória": "Középkorú"
                                },
                                {
                                    "FOGLALAS_PK": "1125",
                                    "Kategória": "Idős"
                                },
                                {
                                    "FOGLALAS_PK": "1438",
                                    "Kategória": "Idős"
                                },
                                {
                                    "FOGLALAS_PK": "1423",
                                    "Kategória": "Középkorú"
                                },
                                {
                                    "FOGLALAS_PK": "1255",
                                    "Kategória": "Középkorú"
                                },
                                {
                                    "FOGLALAS_PK": "1349",
                                    "Kategória": "Középkorú"
                                },
                                {
                                    "FOGLALAS_PK": "1495",
                                    "Kategória": "Középkorú"
                                },
                                {
                                    "FOGLALAS_PK": "1157",
                                    "Kategória": "Középkorú"
                                },
                                {
                                    "FOGLALAS_PK": "1160",
                                    "Kategória": "Középkorú"
                                },
                                {
                                    "FOGLALAS_PK": "614",
                                    "Kategória": "Középkorú"
                                },
                                {
                                    "FOGLALAS_PK": "842",
                                    "Kategória": "Középkorú"
                                },
                                {
                                    "FOGLALAS_PK": "625",
                                    "Kategória": "Középkorú"
                                },
                                {
                                    "FOGLALAS_PK": "1131",
                                    "Kategória": "Középkorú"
                                },
                                {
                                    "FOGLALAS_PK": "966",
                                    "Kategória": "Középkorú"
                                },
                                {
                                    "FOGLALAS_PK": "1262",
                                    "Kategória": "Középkorú"
                                },
                                {
                                    "FOGLALAS_PK": "1305",
                                    "Kategória": "Fiatal"
                                },
                                {
                                    "FOGLALAS_PK": "1467",
                                    "Kategória": "Fiatal"
                                },
                                {
                                    "FOGLALAS_PK": "996",
                                    "Kategória": "Fiatal"
                                },
                                {
                                    "FOGLALAS_PK": "1088",
                                    "Kategória": "Fiatal"
                                },
                                {
                                    "FOGLALAS_PK": "667",
                                    "Kategória": "Fiatal"
                                },
                                {
                                    "FOGLALAS_PK": "828",
                                    "Kategória": "Fiatal"
                                },
                                {
                                    "FOGLALAS_PK": "889",
                                    "Kategória": "Fiatal"
                                },
                                {
                                    "FOGLALAS_PK": "844",
                                    "Kategória": "Középkorú"
                                },
                                {
                                    "FOGLALAS_PK": "730",
                                    "Kategória": "Középkorú"
                                },
                                {
                                    "FOGLALAS_PK": "973",
                                    "Kategória": "Középkorú"
                                },
                                {
                                    "FOGLALAS_PK": "1291",
                                    "Kategória": "Középkorú"
                                },
                                {
                                    "FOGLALAS_PK": "1260",
                                    "Kategória": "Fiatal"
                                },
                                {
                                    "FOGLALAS_PK": "841",
                                    "Kategória": "Fiatal"
                                },
                                {
                                    "FOGLALAS_PK": "603",
                                    "Kategória": "Fiatal"
                                },
                                {
                                    "FOGLALAS_PK": "593",
                                    "Kategória": "Középkorú"
                                },
                                {
                                    "FOGLALAS_PK": "710",
                                    "Kategória": "Középkorú"
                                },
                                {
                                    "FOGLALAS_PK": "1022",
                                    "Kategória": "Középkorú"
                                },
                                {
                                    "FOGLALAS_PK": "1496",
                                    "Kategória": "Középkorú"
                                },
                                {
                                    "FOGLALAS_PK": "1524",
                                    "Kategória": "Középkorú"
                                },
                                {
                                    "FOGLALAS_PK": "1556",
                                    "Kategória": "Középkorú"
                                },
                                {
                                    "FOGLALAS_PK": "1114",
                                    "Kategória": "Idős"
                                },
                                {
                                    "FOGLALAS_PK": "1064",
                                    "Kategória": "Középkorú"
                                },
                                {
                                    "FOGLALAS_PK": "962",
                                    "Kategória": "Középkorú"
                                },
                                {
                                    "FOGLALAS_PK": "831",
                                    "Kategória": "Középkorú"
                                },
                                {
                                    "FOGLALAS_PK": "788",
                                    "Kategória": "Középkorú"
                                },
                                {
                                    "FOGLALAS_PK": "756",
                                    "Kategória": "Idős"
                                },
                                {
                                    "FOGLALAS_PK": "621",
                                    "Kategória": "Idős"
                                },
                                {
                                    "FOGLALAS_PK": "1106",
                                    "Kategória": "Idős"
                                },
                                {
                                    "FOGLALAS_PK": "1563",
                                    "Kategória": "Idős"
                                },
                                {
                                    "FOGLALAS_PK": "1492",
                                    "Kategória": "Idős"
                                },
                                {
                                    "FOGLALAS_PK": "1463",
                                    "Kategória": "Középkorú"
                                },
                                {
                                    "FOGLALAS_PK": "1265",
                                    "Kategória": "Középkorú"
                                },
                                {
                                    "FOGLALAS_PK": "1335",
                                    "Kategória": "Középkorú"
                                },
                                {
                                    "FOGLALAS_PK": "1000",
                                    "Kategória": "Középkorú"
                                },
                                {
                                    "FOGLALAS_PK": "795",
                                    "Kategória": "Középkorú"
                                },
                                {
                                    "FOGLALAS_PK": "890",
                                    "Kategória": "Középkorú"
                                },
                                {
                                    "FOGLALAS_PK": "887",
                                    "Kategória": "Középkorú"
                                },
                                {
                                    "FOGLALAS_PK": "861",
                                    "Kategória": "Középkorú"
                                },
                                {
                                    "FOGLALAS_PK": "734",
                                    "Kategória": "Középkorú"
                                },
                                {
                                    "FOGLALAS_PK": "683",
                                    "Kategória": "Középkorú"
                                },
                                {
                                    "FOGLALAS_PK": "946",
                                    "Kategória": "Középkorú"
                                },
                                {
                                    "FOGLALAS_PK": "1527",
                                    "Kategória": "Középkorú"
                                },
                                {
                                    "FOGLALAS_PK": "1566",
                                    "Kategória": "Középkorú"
                                },
                                {
                                    "FOGLALAS_PK": "1476",
                                    "Kategória": "Fiatal"
                                },
                                {
                                    "FOGLALAS_PK": "1405",
                                    "Kategória": "Fiatal"
                                },
                                {
                                    "FOGLALAS_PK": "1452",
                                    "Kategória": "Középkorú"
                                },
                                {
                                    "FOGLALAS_PK": "1184",
                                    "Kategória": "Középkorú"
                                },
                                {
                                    "FOGLALAS_PK": "835",
                                    "Kategória": "Középkorú"
                                },
                                {
                                    "FOGLALAS_PK": "742",
                                    "Kategória": "Fiatal"
                                },
                                {
                                    "FOGLALAS_PK": "754",
                                    "Kategória": "Fiatal"
                                },
                                {
                                    "FOGLALAS_PK": "1393",
                                    "Kategória": "Fiatal"
                                },
                                {
                                    "FOGLALAS_PK": "1245",
                                    "Kategória": "Fiatal"
                                },
                                {
                                    "FOGLALAS_PK": "1209",
                                    "Kategória": "Fiatal"
                                },
                                {
                                    "FOGLALAS_PK": "1060",
                                    "Kategória": "Fiatal"
                                },
                                {
                                    "FOGLALAS_PK": "982",
                                    "Kategória": "Középkorú"
                                },
                                {
                                    "FOGLALAS_PK": "989",
                                    "Kategória": "Középkorú"
                                },
                                {
                                    "FOGLALAS_PK": "836",
                                    "Kategória": "Középkorú"
                                },
                                {
                                    "FOGLALAS_PK": "810",
                                    "Kategória": "Középkorú"
                                },
                                {
                                    "FOGLALAS_PK": "806",
                                    "Kategória": "Középkorú"
                                },
                                {
                                    "FOGLALAS_PK": "1499",
                                    "Kategória": "Középkorú"
                                },
                                {
                                    "FOGLALAS_PK": "1487",
                                    "Kategória": "Középkorú"
                                },
                                {
                                    "FOGLALAS_PK": "1413",
                                    "Kategória": "Fiatal"
                                },
                                {
                                    "FOGLALAS_PK": "1301",
                                    "Kategória": "Fiatal"
                                },
                                {
                                    "FOGLALAS_PK": "1127",
                                    "Kategória": "Fiatal"
                                },
                                {
                                    "FOGLALAS_PK": "599",
                                    "Kategória": "Fiatal"
                                },
                                {
                                    "FOGLALAS_PK": "583",
                                    "Kategória": "Fiatal"
                                },
                                {
                                    "FOGLALAS_PK": "1507",
                                    "Kategória": "Fiatal"
                                },
                                {
                                    "FOGLALAS_PK": "1087",
                                    "Kategória": "Fiatal"
                                },
                                {
                                    "FOGLALAS_PK": "998",
                                    "Kategória": "Fiatal"
                                },
                                {
                                    "FOGLALAS_PK": "1118",
                                    "Kategória": "Idős"
                                },
                                {
                                    "FOGLALAS_PK": "820",
                                    "Kategória": "Idős"
                                },
                                {
                                    "FOGLALAS_PK": "1526",
                                    "Kategória": "Idős"
                                },
                                {
                                    "FOGLALAS_PK": "1486",
                                    "Kategória": "Középkorú"
                                },
                                {
                                    "FOGLALAS_PK": "1402",
                                    "Kategória": "Középkorú"
                                },
                                {
                                    "FOGLALAS_PK": "1431",
                                    "Kategória": "Középkorú"
                                },
                                {
                                    "FOGLALAS_PK": "1259",
                                    "Kategória": "Középkorú"
                                },
                                {
                                    "FOGLALAS_PK": "840",
                                    "Kategória": "Középkorú"
                                },
                                {
                                    "FOGLALAS_PK": "789",
                                    "Kategória": "Középkorú"
                                },
                                {
                                    "FOGLALAS_PK": "1011",
                                    "Kategória": "Középkorú"
                                },
                                {
                                    "FOGLALAS_PK": "1314",
                                    "Kategória": "Középkorú"
                                },
                                {
                                    "FOGLALAS_PK": "1318",
                                    "Kategória": "Középkorú"
                                },
                                {
                                    "FOGLALAS_PK": "1378",
                                    "Kategória": "Középkorú"
                                },
                                {
                                    "FOGLALAS_PK": "1348",
                                    "Kategória": "Középkorú"
                                },
                                {
                                    "FOGLALAS_PK": "1050",
                                    "Kategória": "Középkorú"
                                },
                                {
                                    "FOGLALAS_PK": "1133",
                                    "Kategória": "Középkorú"
                                },
                                {
                                    "FOGLALAS_PK": "1039",
                                    "Kategória": "Középkorú"
                                },
                                {
                                    "FOGLALAS_PK": "1013",
                                    "Kategória": "Középkorú"
                                },
                                {
                                    "FOGLALAS_PK": "677",
                                    "Kategória": "Középkorú"
                                },
                                {
                                    "FOGLALAS_PK": "1321",
                                    "Kategória": "Középkorú"
                                },
                                {
                                    "FOGLALAS_PK": "1307",
                                    "Kategória": "Középkorú"
                                },
                                {
                                    "FOGLALAS_PK": "1426",
                                    "Kategória": "Középkorú"
                                },
                                {
                                    "FOGLALAS_PK": "1569",
                                    "Kategória": "Középkorú"
                                },
                                {
                                    "FOGLALAS_PK": "616",
                                    "Kategória": "Középkorú"
                                },
                                {
                                    "FOGLALAS_PK": "813",
                                    "Kategória": "Középkorú"
                                },
                                {
                                    "FOGLALAS_PK": "905",
                                    "Kategória": "Középkorú"
                                },
                                {
                                    "FOGLALAS_PK": "920",
                                    "Kategória": "Fiatal"
                                },
                                {
                                    "FOGLALAS_PK": "729",
                                    "Kategória": "Fiatal"
                                },
                                {
                                    "FOGLALAS_PK": "592",
                                    "Kategória": "Fiatal"
                                },
                                {
                                    "FOGLALAS_PK": "699",
                                    "Kategória": "Fiatal"
                                },
                                {
                                    "FOGLALAS_PK": "926",
                                    "Kategória": "Fiatal"
                                },
                                {
                                    "FOGLALAS_PK": "1577",
                                    "Kategória": "Fiatal"
                                },
                                {
                                    "FOGLALAS_PK": "1493",
                                    "Kategória": "Középkorú"
                                },
                                {
                                    "FOGLALAS_PK": "1244",
                                    "Kategória": "Fiatal"
                                },
                                {
                                    "FOGLALAS_PK": "1323",
                                    "Kategória": "Fiatal"
                                },
                                {
                                    "FOGLALAS_PK": "1218",
                                    "Kategória": "Fiatal"
                                },
                                {
                                    "FOGLALAS_PK": "692",
                                    "Kategória": "Fiatal"
                                },
                                {
                                    "FOGLALAS_PK": "568",
                                    "Kategória": "Idős"
                                },
                                {
                                    "FOGLALAS_PK": "814",
                                    "Kategória": "Idős"
                                },
                                {
                                    "FOGLALAS_PK": "885",
                                    "Kategória": "Idős"
                                },
                                {
                                    "FOGLALAS_PK": "1070",
                                    "Kategória": "Idős"
                                },
                                {
                                    "FOGLALAS_PK": "931",
                                    "Kategória": "Idős"
                                },
                                {
                                    "FOGLALAS_PK": "1016",
                                    "Kategória": "Idős"
                                },
                                {
                                    "FOGLALAS_PK": "999",
                                    "Kategória": "Idős"
                                },
                                {
                                    "FOGLALAS_PK": "1439",
                                    "Kategória": "Idős"
                                },
                                {
                                    "FOGLALAS_PK": "1388",
                                    "Kategória": "Idős"
                                },
                                {
                                    "FOGLALAS_PK": "1360",
                                    "Kategória": "Idős"
                                },
                                {
                                    "FOGLALAS_PK": "1570",
                                    "Kategória": "Idős"
                                },
                                {
                                    "FOGLALAS_PK": "1198",
                                    "Kategória": "Idős"
                                },
                                {
                                    "FOGLALAS_PK": "572",
                                    "Kategória": "Idős"
                                },
                                {
                                    "FOGLALAS_PK": "1002",
                                    "Kategória": "Fiatal"
                                },
                                {
                                    "FOGLALAS_PK": "1340",
                                    "Kategória": "Fiatal"
                                },
                                {
                                    "FOGLALAS_PK": "1325",
                                    "Kategória": "Fiatal"
                                },
                                {
                                    "FOGLALAS_PK": "1455",
                                    "Kategória": "Fiatal"
                                },
                                {
                                    "FOGLALAS_PK": "1473",
                                    "Kategória": "Fiatal"
                                },
                                {
                                    "FOGLALAS_PK": "911",
                                    "Kategória": "Fiatal"
                                },
                                {
                                    "FOGLALAS_PK": "914",
                                    "Kategória": "Fiatal"
                                },
                                {
                                    "FOGLALAS_PK": "1192",
                                    "Kategória": "Fiatal"
                                },
                                {
                                    "FOGLALAS_PK": "1221",
                                    "Kategória": "Fiatal"
                                },
                                {
                                    "FOGLALAS_PK": "665",
                                    "Kategória": "Fiatal"
                                },
                                {
                                    "FOGLALAS_PK": "723",
                                    "Kategória": "Fiatal"
                                },
                                {
                                    "FOGLALAS_PK": "751",
                                    "Kategória": "Fiatal"
                                },
                                {
                                    "FOGLALAS_PK": "819",
                                    "Kategória": "Középkorú"
                                },
                                {
                                    "FOGLALAS_PK": "633",
                                    "Kategória": "Középkorú"
                                },
                                {
                                    "FOGLALAS_PK": "574",
                                    "Kategória": "Középkorú"
                                },
                                {
                                    "FOGLALAS_PK": "956",
                                    "Kategória": "Középkorú"
                                },
                                {
                                    "FOGLALAS_PK": "1029",
                                    "Kategória": "Középkorú"
                                },
                                {
                                    "FOGLALAS_PK": "1458",
                                    "Kategória": "Középkorú"
                                },
                                {
                                    "FOGLALAS_PK": "1414",
                                    "Kategória": "Középkorú"
                                },
                                {
                                    "FOGLALAS_PK": "1247",
                                    "Kategória": "Középkorú"
                                },
                                {
                                    "FOGLALAS_PK": "922",
                                    "Kategória": "Középkorú"
                                },
                                {
                                    "FOGLALAS_PK": "1108",
                                    "Kategória": "Középkorú"
                                },
                                {
                                    "FOGLALAS_PK": "1115",
                                    "Kategória": "Középkorú"
                                },
                                {
                                    "FOGLALAS_PK": "1077",
                                    "Kategória": "Középkorú"
                                },
                                {
                                    "FOGLALAS_PK": "627",
                                    "Kategória": "Középkorú"
                                },
                                {
                                    "FOGLALAS_PK": "888",
                                    "Kategória": "Középkorú"
                                },
                                {
                                    "FOGLALAS_PK": "565",
                                    "Kategória": "Középkorú"
                                },
                                {
                                    "FOGLALAS_PK": "1096",
                                    "Kategória": "Középkorú"
                                },
                                {
                                    "FOGLALAS_PK": "1105",
                                    "Kategória": "Középkorú"
                                },
                                {
                                    "FOGLALAS_PK": "1095",
                                    "Kategória": "Középkorú"
                                },
                                {
                                    "FOGLALAS_PK": "656",
                                    "Kategória": "Középkorú"
                                },
                                {
                                    "FOGLALAS_PK": "821",
                                    "Kategória": "Középkorú"
                                },
                                {
                                    "FOGLALAS_PK": "1498",
                                    "Kategória": "Középkorú"
                                },
                                {
                                    "FOGLALAS_PK": "1584",
                                    "Kategória": "Középkorú"
                                },
                                {
                                    "FOGLALAS_PK": "1564",
                                    "Kategória": "Középkorú"
                                },
                                {
                                    "FOGLALAS_PK": "1445",
                                    "Kategória": "Középkorú"
                                },
                                {
                                    "FOGLALAS_PK": "1237",
                                    "Kategória": "Középkorú"
                                },
                                {
                                    "FOGLALAS_PK": "1358",
                                    "Kategória": "Középkorú"
                                },
                                {
                                    "FOGLALAS_PK": "894",
                                    "Kategória": "Középkorú"
                                },
                                {
                                    "FOGLALAS_PK": "747",
                                    "Kategória": "Középkorú"
                                },
                                {
                                    "FOGLALAS_PK": "732",
                                    "Kategória": "Középkorú"
                                },
                                {
                                    "FOGLALAS_PK": "1161",
                                    "Kategória": "Középkorú"
                                },
                                {
                                    "FOGLALAS_PK": "929",
                                    "Kategória": "Középkorú"
                                },
                                {
                                    "FOGLALAS_PK": "901",
                                    "Kategória": "Idős"
                                },
                                {
                                    "FOGLALAS_PK": "1020",
                                    "Kategória": "Idős"
                                },
                                {
                                    "FOGLALAS_PK": "749",
                                    "Kategória": "Idős"
                                },
                                {
                                    "FOGLALAS_PK": "566",
                                    "Kategória": "Idős"
                                },
                                {
                                    "FOGLALAS_PK": "1392",
                                    "Kategória": "Idős"
                                },
                                {
                                    "FOGLALAS_PK": "1502",
                                    "Kategória": "Középkorú"
                                },
                                {
                                    "FOGLALAS_PK": "1542",
                                    "Kategória": "Középkorú"
                                },
                                {
                                    "FOGLALAS_PK": "1266",
                                    "Kategória": "Középkorú"
                                },
                                {
                                    "FOGLALAS_PK": "659",
                                    "Kategória": "Középkorú"
                                },
                                {
                                    "FOGLALAS_PK": "1012",
                                    "Kategória": "Középkorú"
                                },
                                {
                                    "FOGLALAS_PK": "1067",
                                    "Kategória": "Középkorú"
                                },
                                {
                                    "FOGLALAS_PK": "1055",
                                    "Kategória": "Idős"
                                },
                                {
                                    "FOGLALAS_PK": "964",
                                    "Kategória": "Idős"
                                },
                                {
                                    "FOGLALAS_PK": "1217",
                                    "Kategória": "Idős"
                                },
                                {
                                    "FOGLALAS_PK": "608",
                                    "Kategória": "Idős"
                                },
                                {
                                    "FOGLALAS_PK": "1460",
                                    "Kategória": "Idős"
                                },
                                {
                                    "FOGLALAS_PK": "1474",
                                    "Kategória": "Fiatal"
                                },
                                {
                                    "FOGLALAS_PK": "597",
                                    "Kategória": "Fiatal"
                                },
                                {
                                    "FOGLALAS_PK": "763",
                                    "Kategória": "Fiatal"
                                },
                                {
                                    "FOGLALAS_PK": "682",
                                    "Kategória": "Középkorú"
                                },
                                {
                                    "FOGLALAS_PK": "1394",
                                    "Kategória": "Középkorú"
                                },
                                {
                                    "FOGLALAS_PK": "1449",
                                    "Kategória": "Fiatal"
                                },
                                {
                                    "FOGLALAS_PK": "1425",
                                    "Kategória": "Fiatal"
                                },
                                {
                                    "FOGLALAS_PK": "696",
                                    "Kategória": "Fiatal"
                                },
                                {
                                    "FOGLALAS_PK": "716",
                                    "Kategória": "Fiatal"
                                },
                                {
                                    "FOGLALAS_PK": "1223",
                                    "Kategória": "Fiatal"
                                },
                                {
                                    "FOGLALAS_PK": "961",
                                    "Kategória": "Fiatal"
                                },
                                {
                                    "FOGLALAS_PK": "1078",
                                    "Kategória": "Idős"
                                },
                                {
                                    "FOGLALAS_PK": "1032",
                                    "Kategória": "Középkorú"
                                },
                                {
                                    "FOGLALAS_PK": "604",
                                    "Kategória": "Középkorú"
                                },
                                {
                                    "FOGLALAS_PK": "561",
                                    "Kategória": "Középkorú"
                                },
                                {
                                    "FOGLALAS_PK": "778",
                                    "Kategória": "Középkorú"
                                },
                                {
                                    "FOGLALAS_PK": "1320",
                                    "Kategória": "Középkorú"
                                },
                                {
                                    "FOGLALAS_PK": "1510",
                                    "Kategória": "Idős"
                                },
                                {
                                    "FOGLALAS_PK": "947",
                                    "Kategória": "Idős"
                                },
                                {
                                    "FOGLALAS_PK": "899",
                                    "Kategória": "Idős"
                                },
                                {
                                    "FOGLALAS_PK": "934",
                                    "Kategória": "Idős"
                                },
                                {
                                    "FOGLALAS_PK": "1111",
                                    "Kategória": "Idős"
                                },
                                {
                                    "FOGLALAS_PK": "1548",
                                    "Kategória": "Idős"
                                },
                                {
                                    "FOGLALAS_PK": "1264",
                                    "Kategória": "Fiatal"
                                },
                                {
                                    "FOGLALAS_PK": "1567",
                                    "Kategória": "Fiatal"
                                },
                                {
                                    "FOGLALAS_PK": "767",
                                    "Kategória": "Fiatal"
                                },
                                {
                                    "FOGLALAS_PK": "864",
                                    "Kategória": "Fiatal"
                                },
                                {
                                    "FOGLALAS_PK": "642",
                                    "Kategória": "Fiatal"
                                },
                                {
                                    "FOGLALAS_PK": "588",
                                    "Kategória": "Fiatal"
                                },
                                {
                                    "FOGLALAS_PK": "764",
                                    "Kategória": "Fiatal"
                                },
                                {
                                    "FOGLALAS_PK": "958",
                                    "Kategória": "Fiatal"
                                },
                                {
                                    "FOGLALAS_PK": "1293",
                                    "Kategória": "Fiatal"
                                },
                                {
                                    "FOGLALAS_PK": "1462",
                                    "Kategória": "Fiatal"
                                },
                                {
                                    "FOGLALAS_PK": "1052",
                                    "Kategória": "Fiatal"
                                },
                                {
                                    "FOGLALAS_PK": "1082",
                                    "Kategória": "Fiatal"
                                },
                                {
                                    "FOGLALAS_PK": "1076",
                                    "Kategória": "Fiatal"
                                },
                                {
                                    "FOGLALAS_PK": "1042",
                                    "Kategória": "Fiatal"
                                },
                                {
                                    "FOGLALAS_PK": "979",
                                    "Kategória": "Fiatal"
                                },
                                {
                                    "FOGLALAS_PK": "916",
                                    "Kategória": "Fiatal"
                                },
                                {
                                    "FOGLALAS_PK": "769",
                                    "Kategória": "Fiatal"
                                },
                                {
                                    "FOGLALAS_PK": "605",
                                    "Kategória": "Fiatal"
                                },
                                {
                                    "FOGLALAS_PK": "1582",
                                    "Kategória": "Fiatal"
                                },
                                {
                                    "FOGLALAS_PK": "1446",
                                    "Kategória": "Fiatal"
                                },
                                {
                                    "FOGLALAS_PK": "794",
                                    "Kategória": "Fiatal"
                                },
                                {
                                    "FOGLALAS_PK": "1107",
                                    "Kategória": "Fiatal"
                                },
                                {
                                    "FOGLALAS_PK": "664",
                                    "Kategória": "Középkorú"
                                },
                                {
                                    "FOGLALAS_PK": "1356",
                                    "Kategória": "Középkorú"
                                },
                                {
                                    "FOGLALAS_PK": "1380",
                                    "Kategória": "Középkorú"
                                },
                                {
                                    "FOGLALAS_PK": "1429",
                                    "Kategória": "Középkorú"
                                },
                                {
                                    "FOGLALAS_PK": "707",
                                    "Kategória": "Középkorú"
                                },
                                {
                                    "FOGLALAS_PK": "636",
                                    "Kategória": "Középkorú"
                                },
                                {
                                    "FOGLALAS_PK": "1143",
                                    "Kategória": "Középkorú"
                                },
                                {
                                    "FOGLALAS_PK": "1226",
                                    "Kategória": "Középkorú"
                                },
                                {
                                    "FOGLALAS_PK": "875",
                                    "Kategória": "Középkorú"
                                },
                                {
                                    "FOGLALAS_PK": "1505",
                                    "Kategória": "Középkorú"
                                },
                                {
                                    "FOGLALAS_PK": "1234",
                                    "Kategória": "Középkorú"
                                },
                                {
                                    "FOGLALAS_PK": "1283",
                                    "Kategória": "Fiatal"
                                },
                                {
                                    "FOGLALAS_PK": "589",
                                    "Kategória": "Fiatal"
                                },
                                {
                                    "FOGLALAS_PK": "687",
                                    "Kategória": "Középkorú"
                                },
                                {
                                    "FOGLALAS_PK": "987",
                                    "Kategória": "Középkorú"
                                },
                                {
                                    "FOGLALAS_PK": "1344",
                                    "Kategória": "Középkorú"
                                },
                                {
                                    "FOGLALAS_PK": "1267",
                                    "Kategória": "Középkorú"
                                },
                                {
                                    "FOGLALAS_PK": "1506",
                                    "Kategória": "Középkorú"
                                },
                                {
                                    "FOGLALAS_PK": "1562",
                                    "Kategória": "Középkorú"
                                },
                                {
                                    "FOGLALAS_PK": "609",
                                    "Kategória": "Középkorú"
                                },
                                {
                                    "FOGLALAS_PK": "558",
                                    "Kategória": "Idős"
                                },
                                {
                                    "FOGLALAS_PK": "1503",
                                    "Kategória": "Idős"
                                },
                                {
                                    "FOGLALAS_PK": "1242",
                                    "Kategória": "Idős"
                                },
                                {
                                    "FOGLALAS_PK": "853",
                                    "Kategória": "Középkorú"
                                },
                                {
                                    "FOGLALAS_PK": "1178",
                                    "Kategória": "Középkorú"
                                },
                                {
                                    "FOGLALAS_PK": "992",
                                    "Kategória": "Középkorú"
                                },
                                {
                                    "FOGLALAS_PK": "877",
                                    "Kategória": "Középkorú"
                                },
                                {
                                    "FOGLALAS_PK": "775",
                                    "Kategória": "Középkorú"
                                },
                                {
                                    "FOGLALAS_PK": "564",
                                    "Kategória": "Középkorú"
                                },
                                {
                                    "FOGLALAS_PK": "634",
                                    "Kategória": "Középkorú"
                                },
                                {
                                    "FOGLALAS_PK": "1355",
                                    "Kategória": "Középkorú"
                                },
                                {
                                    "FOGLALAS_PK": "1488",
                                    "Kategória": "Középkorú"
                                },
                                {
                                    "FOGLALAS_PK": "663",
                                    "Kategória": "Fiatal"
                                },
                                {
                                    "FOGLALAS_PK": "720",
                                    "Kategória": "Fiatal"
                                },
                                {
                                    "FOGLALAS_PK": "928",
                                    "Kategória": "Fiatal"
                                },
                                {
                                    "FOGLALAS_PK": "1073",
                                    "Kategória": "Fiatal"
                                },
                                {
                                    "FOGLALAS_PK": "1528",
                                    "Kategória": "Idős"
                                },
                                {
                                    "FOGLALAS_PK": "1365",
                                    "Kategória": "Idős"
                                },
                                {
                                    "FOGLALAS_PK": "1285",
                                    "Kategória": "Idős"
                                },
                                {
                                    "FOGLALAS_PK": "1233",
                                    "Kategória": "Fiatal"
                                },
                                {
                                    "FOGLALAS_PK": "1482",
                                    "Kategória": "Fiatal"
                                },
                                {
                                    "FOGLALAS_PK": "1028",
                                    "Kategória": "Fiatal"
                                },
                                {
                                    "FOGLALAS_PK": "632",
                                    "Kategória": "Fiatal"
                                },
                                {
                                    "FOGLALAS_PK": "724",
                                    "Kategória": "Fiatal"
                                },
                                {
                                    "FOGLALAS_PK": "871",
                                    "Kategória": "Középkorú"
                                },
                                {
                                    "FOGLALAS_PK": "569",
                                    "Kategória": "Középkorú"
                                },
                                {
                                    "FOGLALAS_PK": "963",
                                    "Kategória": "Középkorú"
                                },
                                {
                                    "FOGLALAS_PK": "967",
                                    "Kategória": "Középkorú"
                                },
                                {
                                    "FOGLALAS_PK": "1123",
                                    "Kategória": "Középkorú"
                                },
                                {
                                    "FOGLALAS_PK": "1211",
                                    "Kategória": "Középkorú"
                                },
                                {
                                    "FOGLALAS_PK": "1333",
                                    "Kategória": "Középkorú"
                                },
                                {
                                    "FOGLALAS_PK": "1583",
                                    "Kategória": "Középkorú"
                                },
                                {
                                    "FOGLALAS_PK": "984",
                                    "Kategória": "Középkorú"
                                },
                                {
                                    "FOGLALAS_PK": "766",
                                    "Kategória": "Középkorú"
                                },
                                {
                                    "FOGLALAS_PK": "776",
                                    "Kategória": "Idős"
                                },
                                {
                                    "FOGLALAS_PK": "1058",
                                    "Kategória": "Idős"
                                },
                                {
                                    "FOGLALAS_PK": "1369",
                                    "Kategória": "Idős"
                                },
                                {
                                    "FOGLALAS_PK": "1530",
                                    "Kategória": "Idős"
                                },
                                {
                                    "FOGLALAS_PK": "1552",
                                    "Kategória": "Idős"
                                },
                                {
                                    "FOGLALAS_PK": "1579",
                                    "Kategória": "Középkorú"
                                },
                                {
                                    "FOGLALAS_PK": "1565",
                                    "Kategória": "Középkorú"
                                },
                                {
                                    "FOGLALAS_PK": "1201",
                                    "Kategória": "Középkorú"
                                },
                                {
                                    "FOGLALAS_PK": "671",
                                    "Kategória": "Középkorú"
                                },
                                {
                                    "FOGLALAS_PK": "1146",
                                    "Kategória": "Középkorú"
                                },
                                {
                                    "FOGLALAS_PK": "1004",
                                    "Kategória": "Középkorú"
                                },
                                {
                                    "FOGLALAS_PK": "1236",
                                    "Kategória": "Középkorú"
                                },
                                {
                                    "FOGLALAS_PK": "1282",
                                    "Kategória": "Középkorú"
                                },
                                {
                                    "FOGLALAS_PK": "1557",
                                    "Kategória": "Középkorú"
                                },
                                {
                                    "FOGLALAS_PK": "995",
                                    "Kategória": "Középkorú"
                                },
                                {
                                    "FOGLALAS_PK": "1228",
                                    "Kategória": "Középkorú"
                                },
                                {
                                    "FOGLALAS_PK": "726",
                                    "Kategória": "Középkorú"
                                },
                                {
                                    "FOGLALAS_PK": "759",
                                    "Kategória": "Középkorú"
                                },
                                {
                                    "FOGLALAS_PK": "815",
                                    "Kategória": "Középkorú"
                                },
                                {
                                    "FOGLALAS_PK": "577",
                                    "Kategória": "Középkorú"
                                },
                                {
                                    "FOGLALAS_PK": "1222",
                                    "Kategória": "Középkorú"
                                },
                                {
                                    "FOGLALAS_PK": "1188",
                                    "Kategória": "Középkorú"
                                },
                                {
                                    "FOGLALAS_PK": "1139",
                                    "Kategória": "Középkorú"
                                },
                                {
                                    "FOGLALAS_PK": "1080",
                                    "Kategória": "Középkorú"
                                },
                                {
                                    "FOGLALAS_PK": "1093",
                                    "Kategória": "Középkorú"
                                },
                                {
                                    "FOGLALAS_PK": "1043",
                                    "Kategória": "Középkorú"
                                },
                                {
                                    "FOGLALAS_PK": "1273",
                                    "Kategória": "Középkorú"
                                },
                                {
                                    "FOGLALAS_PK": "1316",
                                    "Kategória": "Középkorú"
                                },
                                {
                                    "FOGLALAS_PK": "1500",
                                    "Kategória": "Középkorú"
                                },
                                {
                                    "FOGLALAS_PK": "1287",
                                    "Kategória": "Idős"
                                },
                                {
                                    "FOGLALAS_PK": "1167",
                                    "Kategória": "Idős"
                                },
                                {
                                    "FOGLALAS_PK": "694",
                                    "Kategória": "Idős"
                                },
                                {
                                    "FOGLALAS_PK": "585",
                                    "Kategória": "Fiatal"
                                },
                                {
                                    "FOGLALAS_PK": "865",
                                    "Kategória": "Fiatal"
                                },
                                {
                                    "FOGLALAS_PK": "777",
                                    "Kategória": "Fiatal"
                                },
                                {
                                    "FOGLALAS_PK": "792",
                                    "Kategória": "Fiatal"
                                },
                                {
                                    "FOGLALAS_PK": "1517",
                                    "Kategória": "Fiatal"
                                },
                                {
                                    "FOGLALAS_PK": "1481",
                                    "Kategória": "Fiatal"
                                },
                                {
                                    "FOGLALAS_PK": "1284",
                                    "Kategória": "Fiatal"
                                },
                                {
                                    "FOGLALAS_PK": "1263",
                                    "Kategória": "Fiatal"
                                },
                                {
                                    "FOGLALAS_PK": "850",
                                    "Kategória": "Fiatal"
                                },
                                {
                                    "FOGLALAS_PK": "1116",
                                    "Kategória": "Fiatal"
                                },
                                {
                                    "FOGLALAS_PK": "1089",
                                    "Kategória": "Idős"
                                },
                                {
                                    "FOGLALAS_PK": "1033",
                                    "Kategória": "Idős"
                                },
                                {
                                    "FOGLALAS_PK": "748",
                                    "Kategória": "Idős"
                                },
                                {
                                    "FOGLALAS_PK": "721",
                                    "Kategória": "Idős"
                                },
                                {
                                    "FOGLALAS_PK": "1575",
                                    "Kategória": "Idős"
                                },
                                {
                                    "FOGLALAS_PK": "1471",
                                    "Kategória": "Fiatal"
                                },
                                {
                                    "FOGLALAS_PK": "1204",
                                    "Kategória": "Fiatal"
                                },
                                {
                                    "FOGLALAS_PK": "985",
                                    "Kategória": "Fiatal"
                                },
                                {
                                    "FOGLALAS_PK": "637",
                                    "Kategória": "Fiatal"
                                },
                                {
                                    "FOGLALAS_PK": "619",
                                    "Kategória": "Fiatal"
                                },
                                {
                                    "FOGLALAS_PK": "1532",
                                    "Kategória": "Fiatal"
                                },
                                {
                                    "FOGLALAS_PK": "647",
                                    "Kategória": "Középkorú"
                                },
                                {
                                    "FOGLALAS_PK": "802",
                                    "Kategória": "Középkorú"
                                },
                                {
                                    "FOGLALAS_PK": "1183",
                                    "Kategória": "Középkorú"
                                },
                                {
                                    "FOGLALAS_PK": "1197",
                                    "Kategória": "Idős"
                                },
                                {
                                    "FOGLALAS_PK": "1141",
                                    "Kategória": "Idős"
                                },
                                {
                                    "FOGLALAS_PK": "1129",
                                    "Kategória": "Idős"
                                },
                                {
                                    "FOGLALAS_PK": "1027",
                                    "Kategória": "Idős"
                                },
                                {
                                    "FOGLALAS_PK": "791",
                                    "Kategória": "Idős"
                                },
                                {
                                    "FOGLALAS_PK": "808",
                                    "Kategória": "Idős"
                                },
                                {
                                    "FOGLALAS_PK": "1545",
                                    "Kategória": "Idős"
                                },
                                {
                                    "FOGLALAS_PK": "739",
                                    "Kategória": "Középkorú"
                                },
                                {
                                    "FOGLALAS_PK": "1038",
                                    "Kategória": "Középkorú"
                                },
                                {
                                    "FOGLALAS_PK": "978",
                                    "Kategória": "Idős"
                                },
                                {
                                    "FOGLALAS_PK": "939",
                                    "Kategória": "Idős"
                                },
                                {
                                    "FOGLALAS_PK": "848",
                                    "Kategória": "Idős"
                                },
                                {
                                    "FOGLALAS_PK": "1294",
                                    "Kategória": "Idős"
                                },
                                {
                                    "FOGLALAS_PK": "1253",
                                    "Kategória": "Középkorú"
                                },
                                {
                                    "FOGLALAS_PK": "1448",
                                    "Kategória": "Középkorú"
                                },
                                {
                                    "FOGLALAS_PK": "1418",
                                    "Kategória": "Középkorú"
                                },
                                {
                                    "FOGLALAS_PK": "1433",
                                    "Kategória": "Fiatal"
                                },
                                {
                                    "FOGLALAS_PK": "1549",
                                    "Kategória": "Fiatal"
                                },
                                {
                                    "FOGLALAS_PK": "1041",
                                    "Kategória": "Fiatal"
                                },
                                {
                                    "FOGLALAS_PK": "1069",
                                    "Kategória": "Középkorú"
                                },
                                {
                                    "FOGLALAS_PK": "1010",
                                    "Kategória": "Középkorú"
                                },
                                {
                                    "FOGLALAS_PK": "800",
                                    "Kategória": "Középkorú"
                                },
                                {
                                    "FOGLALAS_PK": "686",
                                    "Kategória": "Középkorú"
                                },
                                {
                                    "FOGLALAS_PK": "640",
                                    "Kategória": "Fiatal"
                                },
                                {
                                    "FOGLALAS_PK": "1138",
                                    "Kategória": "Fiatal"
                                },
                                {
                                    "FOGLALAS_PK": "1181",
                                    "Kategória": "Fiatal"
                                },
                                {
                                    "FOGLALAS_PK": "1272",
                                    "Kategória": "Fiatal"
                                },
                                {
                                    "FOGLALAS_PK": "1331",
                                    "Kategória": "Fiatal"
                                },
                                {
                                    "FOGLALAS_PK": "1465",
                                    "Kategória": "Fiatal"
                                },
                                {
                                    "FOGLALAS_PK": "1311",
                                    "Kategória": "Középkorú"
                                },
                                {
                                    "FOGLALAS_PK": "1390",
                                    "Kategória": "Középkorú"
                                },
                                {
                                    "FOGLALAS_PK": "1289",
                                    "Kategória": "Középkorú"
                                },
                                {
                                    "FOGLALAS_PK": "1148",
                                    "Kategória": "Középkorú"
                                },
                                {
                                    "FOGLALAS_PK": "1212",
                                    "Kategória": "Középkorú"
                                },
                                {
                                    "FOGLALAS_PK": "1124",
                                    "Kategória": "Középkorú"
                                },
                                {
                                    "FOGLALAS_PK": "910",
                                    "Kategória": "Középkorú"
                                },
                                {
                                    "FOGLALAS_PK": "675",
                                    "Kategória": "Középkorú"
                                },
                                {
                                    "FOGLALAS_PK": "711",
                                    "Kategória": "Középkorú"
                                },
                                {
                                    "FOGLALAS_PK": "866",
                                    "Kategória": "Középkorú"
                                },
                                {
                                    "FOGLALAS_PK": "882",
                                    "Kategória": "Középkorú"
                                },
                                {
                                    "FOGLALAS_PK": "741",
                                    "Kategória": "Fiatal"
                                },
                                {
                                    "FOGLALAS_PK": "680",
                                    "Kategória": "Fiatal"
                                },
                                {
                                    "FOGLALAS_PK": "560",
                                    "Kategória": "Fiatal"
                                },
                                {
                                    "FOGLALAS_PK": "1062",
                                    "Kategória": "Fiatal"
                                },
                                {
                                    "FOGLALAS_PK": "1051",
                                    "Kategória": "Fiatal"
                                },
                                {
                                    "FOGLALAS_PK": "940",
                                    "Kategória": "Fiatal"
                                },
                                {
                                    "FOGLALAS_PK": "1195",
                                    "Kategória": "Fiatal"
                                },
                                {
                                    "FOGLALAS_PK": "563",
                                    "Kategória": "Fiatal"
                                },
                                {
                                    "FOGLALAS_PK": "602",
                                    "Kategória": "Fiatal"
                                },
                                {
                                    "FOGLALAS_PK": "1343",
                                    "Kategória": "Fiatal"
                                },
                                {
                                    "FOGLALAS_PK": "1276",
                                    "Kategória": "Középkorú"
                                },
                                {
                                    "FOGLALAS_PK": "1424",
                                    "Kategória": "Középkorú"
                                },
                                {
                                    "FOGLALAS_PK": "1497",
                                    "Kategória": "Középkorú"
                                },
                                {
                                    "FOGLALAS_PK": "735",
                                    "Kategória": "Középkorú"
                                },
                                {
                                    "FOGLALAS_PK": "1208",
                                    "Kategória": "Középkorú"
                                },
                                {
                                    "FOGLALAS_PK": "1163",
                                    "Kategória": "Középkorú"
                                },
                                {
                                    "FOGLALAS_PK": "971",
                                    "Kategória": "Középkorú"
                                },
                                {
                                    "FOGLALAS_PK": "1110",
                                    "Kategória": "Idős"
                                },
                                {
                                    "FOGLALAS_PK": "1071",
                                    "Kategória": "Idős"
                                },
                                {
                                    "FOGLALAS_PK": "830",
                                    "Kategória": "Idős"
                                },
                                {
                                    "FOGLALAS_PK": "596",
                                    "Kategória": "Idős"
                                },
                                {
                                    "FOGLALAS_PK": "718",
                                    "Kategória": "Idős"
                                },
                                {
                                    "FOGLALAS_PK": "1442",
                                    "Kategória": "Idős"
                                },
                                {
                                    "FOGLALAS_PK": "1401",
                                    "Kategória": "Középkorú"
                                },
                                {
                                    "FOGLALAS_PK": "1479",
                                    "Kategória": "Középkorú"
                                },
                                {
                                    "FOGLALAS_PK": "1391",
                                    "Kategória": "Középkorú"
                                },
                                {
                                    "FOGLALAS_PK": "715",
                                    "Kategória": "Középkorú"
                                },
                                {
                                    "FOGLALAS_PK": "644",
                                    "Kategória": "Középkorú"
                                },
                                {
                                    "FOGLALAS_PK": "870",
                                    "Kategória": "Középkorú"
                                },
                                {
                                    "FOGLALAS_PK": "1144",
                                    "Kategória": "Középkorú"
                                },
                                {
                                    "FOGLALAS_PK": "1191",
                                    "Kategória": "Középkorú"
                                },
                                {
                                    "FOGLALAS_PK": "1207",
                                    "Kategória": "Középkorú"
                                },
                                {
                                    "FOGLALAS_PK": "770",
                                    "Kategória": "Középkorú"
                                },
                                {
                                    "FOGLALAS_PK": "1280",
                                    "Kategória": "Középkorú"
                                },
                                {
                                    "FOGLALAS_PK": "1534",
                                    "Kategória": "Középkorú"
                                },
                                {
                                    "FOGLALAS_PK": "817",
                                    "Kategória": "Középkorú"
                                },
                                {
                                    "FOGLALAS_PK": "649",
                                    "Kategória": "Középkorú"
                                },
                                {
                                    "FOGLALAS_PK": "959",
                                    "Kategória": "Középkorú"
                                },
                                {
                                    "FOGLALAS_PK": "950",
                                    "Kategória": "Fiatal"
                                },
                                {
                                    "FOGLALAS_PK": "1044",
                                    "Kategória": "Fiatal"
                                },
                                {
                                    "FOGLALAS_PK": "991",
                                    "Kategória": "Fiatal"
                                },
                                {
                                    "FOGLALAS_PK": "1008",
                                    "Kategória": "Fiatal"
                                },
                                {
                                    "FOGLALAS_PK": "618",
                                    "Kategória": "Fiatal"
                                },
                                {
                                    "FOGLALAS_PK": "1525",
                                    "Kategória": "Fiatal"
                                },
                                {
                                    "FOGLALAS_PK": "1537",
                                    "Kategória": "Fiatal"
                                },
                                {
                                    "FOGLALAS_PK": "1357",
                                    "Kategória": "Fiatal"
                                },
                                {
                                    "FOGLALAS_PK": "1145",
                                    "Kategória": "Fiatal"
                                },
                                {
                                    "FOGLALAS_PK": "1170",
                                    "Kategória": "Középkorú"
                                },
                                {
                                    "FOGLALAS_PK": "1166",
                                    "Kategória": "Fiatal"
                                },
                                {
                                    "FOGLALAS_PK": "698",
                                    "Kategória": "Fiatal"
                                },
                                {
                                    "FOGLALAS_PK": "895",
                                    "Kategória": "Fiatal"
                                },
                                {
                                    "FOGLALAS_PK": "798",
                                    "Kategória": "Fiatal"
                                },
                                {
                                    "FOGLALAS_PK": "1389",
                                    "Kategória": "Fiatal"
                                },
                                {
                                    "FOGLALAS_PK": "1398",
                                    "Kategória": "Fiatal"
                                },
                                {
                                    "FOGLALAS_PK": "1362",
                                    "Kategória": "Középkorú"
                                },
                                {
                                    "FOGLALAS_PK": "1324",
                                    "Kategória": "Középkorú"
                                },
                                {
                                    "FOGLALAS_PK": "762",
                                    "Kategória": "Középkorú"
                                },
                                {
                                    "FOGLALAS_PK": "1196",
                                    "Kategória": "Középkorú"
                                },
                                {
                                    "FOGLALAS_PK": "913",
                                    "Kategória": "Középkorú"
                                },
                                {
                                    "FOGLALAS_PK": "918",
                                    "Kategória": "Középkorú"
                                },
                                {
                                    "FOGLALAS_PK": "1189",
                                    "Kategória": "Középkorú"
                                },
                                {
                                    "FOGLALAS_PK": "898",
                                    "Kategória": "Középkorú"
                                },
                                {
                                    "FOGLALAS_PK": "849",
                                    "Kategória": "Középkorú"
                                },
                                {
                                    "FOGLALAS_PK": "1363",
                                    "Kategória": "Középkorú"
                                },
                                {
                                    "FOGLALAS_PK": "1290",
                                    "Kategória": "Középkorú"
                                },
                                {
                                    "FOGLALAS_PK": "1415",
                                    "Kategória": "Középkorú"
                                },
                                {
                                    "FOGLALAS_PK": "1275",
                                    "Kategória": "Fiatal"
                                },
                                {
                                    "FOGLALAS_PK": "1334",
                                    "Kategória": "Fiatal"
                                },
                                {
                                    "FOGLALAS_PK": "856",
                                    "Kategória": "Fiatal"
                                },
                                {
                                    "FOGLALAS_PK": "1203",
                                    "Kategória": "Fiatal"
                                },
                                {
                                    "FOGLALAS_PK": "1081",
                                    "Kategória": "Középkorú"
                                },
                                {
                                    "FOGLALAS_PK": "883",
                                    "Kategória": "Középkorú"
                                },
                                {
                                    "FOGLALAS_PK": "695",
                                    "Kategória": "Középkorú"
                                },
                                {
                                    "FOGLALAS_PK": "1456",
                                    "Kategória": "Középkorú"
                                },
                                {
                                    "FOGLALAS_PK": "1491",
                                    "Kategória": "Középkorú"
                                },
                                {
                                    "FOGLALAS_PK": "753",
                                    "Kategória": "Fiatal"
                                },
                                {
                                    "FOGLALAS_PK": "1199",
                                    "Kategória": "Fiatal"
                                },
                                {
                                    "FOGLALAS_PK": "1151",
                                    "Kategória": "Fiatal"
                                },
                                {
                                    "FOGLALAS_PK": "919",
                                    "Kategória": "Fiatal"
                                },
                                {
                                    "FOGLALAS_PK": "879",
                                    "Kategória": "Fiatal"
                                },
                                {
                                    "FOGLALAS_PK": "843",
                                    "Kategória": "Fiatal"
                                },
                                {
                                    "FOGLALAS_PK": "774",
                                    "Kategória": "Fiatal"
                                },
                                {
                                    "FOGLALAS_PK": "617",
                                    "Kategória": "Fiatal"
                                },
                                {
                                    "FOGLALAS_PK": "1386",
                                    "Kategória": "Fiatal"
                                },
                                {
                                    "FOGLALAS_PK": "1375",
                                    "Kategória": "Fiatal"
                                },
                                {
                                    "FOGLALAS_PK": "1288",
                                    "Kategória": "Fiatal"
                                },
                                {
                                    "FOGLALAS_PK": "822",
                                    "Kategória": "Középkorú"
                                },
                                {
                                    "FOGLALAS_PK": "1030",
                                    "Kategória": "Középkorú"
                                },
                                {
                                    "FOGLALAS_PK": "1176",
                                    "Kategória": "Fiatal"
                                },
                                {
                                    "FOGLALAS_PK": "1194",
                                    "Kategória": "Fiatal"
                                },
                                {
                                    "FOGLALAS_PK": "1091",
                                    "Kategória": "Fiatal"
                                },
                                {
                                    "FOGLALAS_PK": "784",
                                    "Kategória": "Fiatal"
                                },
                                {
                                    "FOGLALAS_PK": "639",
                                    "Kategória": "Fiatal"
                                },
                                {
                                    "FOGLALAS_PK": "641",
                                    "Kategória": "Fiatal"
                                },
                                {
                                    "FOGLALAS_PK": "1292",
                                    "Kategória": "Fiatal"
                                },
                                {
                                    "FOGLALAS_PK": "1409",
                                    "Kategória": "Fiatal"
                                },
                                {
                                    "FOGLALAS_PK": "1397",
                                    "Kategória": "Középkorú"
                                },
                                {
                                    "FOGLALAS_PK": "1352",
                                    "Kategória": "Középkorú"
                                },
                                {
                                    "FOGLALAS_PK": "700",
                                    "Kategória": "Középkorú"
                                },
                                {
                                    "FOGLALAS_PK": "1168",
                                    "Kategória": "Középkorú"
                                },
                                {
                                    "FOGLALAS_PK": "915",
                                    "Kategória": "Középkorú"
                                },
                                {
                                    "FOGLALAS_PK": "907",
                                    "Kategória": "Középkorú"
                                },
                                {
                                    "FOGLALAS_PK": "668",
                                    "Kategória": "Középkorú"
                                },
                                {
                                    "FOGLALAS_PK": "615",
                                    "Kategória": "Középkorú"
                                },
                                {
                                    "FOGLALAS_PK": "1447",
                                    "Kategória": "Középkorú"
                                },
                                {
                                    "FOGLALAS_PK": "1547",
                                    "Kategória": "Középkorú"
                                },
                                {
                                    "FOGLALAS_PK": "968",
                                    "Kategória": "Középkorú"
                                },
                                {
                                    "FOGLALAS_PK": "917",
                                    "Kategória": "Fiatal"
                                },
                                {
                                    "FOGLALAS_PK": "930",
                                    "Kategória": "Fiatal"
                                },
                                {
                                    "FOGLALAS_PK": "580",
                                    "Kategória": "Fiatal"
                                },
                                {
                                    "FOGLALAS_PK": "743",
                                    "Kategória": "Fiatal"
                                },
                                {
                                    "FOGLALAS_PK": "598",
                                    "Kategória": "Középkorú"
                                },
                                {
                                    "FOGLALAS_PK": "630",
                                    "Kategória": "Középkorú"
                                },
                                {
                                    "FOGLALAS_PK": "685",
                                    "Kategória": "Középkorú"
                                },
                                {
                                    "FOGLALAS_PK": "970",
                                    "Kategória": "Középkorú"
                                },
                                {
                                    "FOGLALAS_PK": "1100",
                                    "Kategória": "Középkorú"
                                },
                                {
                                    "FOGLALAS_PK": "712",
                                    "Kategória": "Középkorú"
                                },
                                {
                                    "FOGLALAS_PK": "833",
                                    "Kategória": "Középkorú"
                                },
                                {
                                    "FOGLALAS_PK": "1327",
                                    "Kategória": "Középkorú"
                                },
                                {
                                    "FOGLALAS_PK": "740",
                                    "Kategória": "Középkorú"
                                },
                                {
                                    "FOGLALAS_PK": "1086",
                                    "Kategória": "Középkorú"
                                },
                                {
                                    "FOGLALAS_PK": "1206",
                                    "Kategória": "Középkorú"
                                },
                                {
                                    "FOGLALAS_PK": "1040",
                                    "Kategória": "Középkorú"
                                },
                                {
                                    "FOGLALAS_PK": "1025",
                                    "Kategória": "Fiatal"
                                },
                                {
                                    "FOGLALAS_PK": "650",
                                    "Kategória": "Fiatal"
                                },
                                {
                                    "FOGLALAS_PK": "1444",
                                    "Kategória": "Fiatal"
                                },
                                {
                                    "FOGLALAS_PK": "1300",
                                    "Kategória": "Középkorú"
                                },
                                {
                                    "FOGLALAS_PK": "579",
                                    "Kategória": "Középkorú"
                                },
                                {
                                    "FOGLALAS_PK": "868",
                                    "Kategória": "Középkorú"
                                },
                                {
                                    "FOGLALAS_PK": "1063",
                                    "Kategória": "Középkorú"
                                },
                                {
                                    "FOGLALAS_PK": "960",
                                    "Kategória": "Középkorú"
                                }
                            ]
                        },
                        "text/html": [
                            "<table>",
                            "<tr><th>FOGLALAS_PK</th><th>Kategória</th></tr>",
                            "<tr><td>869</td><td>Fiatal</td></tr>",
                            "<tr><td>1165</td><td>Fiatal</td></tr>",
                            "<tr><td>1046</td><td>Középkorú</td></tr>",
                            "<tr><td>1205</td><td>Középkorú</td></tr>",
                            "<tr><td>829</td><td>Középkorú</td></tr>",
                            "<tr><td>1281</td><td>Középkorú</td></tr>",
                            "<tr><td>1347</td><td>Középkorú</td></tr>",
                            "<tr><td>1435</td><td>Középkorú</td></tr>",
                            "<tr><td>1561</td><td>Középkorú</td></tr>",
                            "<tr><td>1261</td><td>Középkorú</td></tr>",
                            "<tr><td>738</td><td>Középkorú</td></tr>",
                            "<tr><td>628</td><td>Középkorú</td></tr>",
                            "<tr><td>666</td><td>Középkorú</td></tr>",
                            "<tr><td>1180</td><td>Idős</td></tr>",
                            "<tr><td>1544</td><td>Idős</td></tr>",
                            "<tr><td>1441</td><td>Középkorú</td></tr>",
                            "<tr><td>1417</td><td>Középkorú</td></tr>",
                            "<tr><td>606</td><td>Középkorú</td></tr>",
                            "<tr><td>571</td><td>Középkorú</td></tr>",
                            "<tr><td>736</td><td>Fiatal</td></tr>",
                            "<tr><td>1162</td><td>Fiatal</td></tr>",
                            "<tr><td>1371</td><td>Fiatal</td></tr>",
                            "<tr><td>1364</td><td>Középkorú</td></tr>",
                            "<tr><td>1299</td><td>Középkorú</td></tr>",
                            "<tr><td>1406</td><td>Középkorú</td></tr>",
                            "<tr><td>1164</td><td>Középkorú</td></tr>",
                            "<tr><td>1122</td><td>Középkorú</td></tr>",
                            "<tr><td>673</td><td>Középkorú</td></tr>",
                            "<tr><td>676</td><td>Középkorú</td></tr>",
                            "<tr><td>655</td><td>Középkorú</td></tr>",
                            "<tr><td>1302</td><td>Középkorú</td></tr>",
                            "<tr><td>1332</td><td>Fiatal</td></tr>",
                            "<tr><td>1457</td><td>Fiatal</td></tr>",
                            "<tr><td>658</td><td>Fiatal</td></tr>",
                            "<tr><td>727</td><td>Fiatal</td></tr>",
                            "<tr><td>1175</td><td>Fiatal</td></tr>",
                            "<tr><td>937</td><td>Fiatal</td></tr>",
                            "<tr><td>1049</td><td>Idős</td></tr>",
                            "<tr><td>624</td><td>Idős</td></tr>",
                            "<tr><td>1437</td><td>Idős</td></tr>",
                            "<tr><td>1286</td><td>Idős</td></tr>",
                            "<tr><td>1511</td><td>Fiatal</td></tr>",
                            "<tr><td>693</td><td>Fiatal</td></tr>",
                            "<tr><td>1126</td><td>Fiatal</td></tr>",
                            "<tr><td>1092</td><td>Fiatal</td></tr>",
                            "<tr><td>1101</td><td>Középkorú</td></tr>",
                            "<tr><td>1121</td><td>Középkorú</td></tr>",
                            "<tr><td>1009</td><td>Középkorú</td></tr>",
                            "<tr><td>975</td><td>Középkorú</td></tr>",
                            "<tr><td>1478</td><td>Középkorú</td></tr>",
                            "<tr><td>1310</td><td>Középkorú</td></tr>",
                            "<tr><td>1328</td><td>Középkorú</td></tr>",
                            "<tr><td>1489</td><td>Középkorú</td></tr>",
                            "<tr><td>701</td><td>Középkorú</td></tr>",
                            "<tr><td>674</td><td>Középkorú</td></tr>",
                            "<tr><td>611</td><td>Középkorú</td></tr>",
                            "<tr><td>837</td><td>Középkorú</td></tr>",
                            "<tr><td>1059</td><td>Középkorú</td></tr>",
                            "<tr><td>1427</td><td>Középkorú</td></tr>",
                            "<tr><td>1317</td><td>Középkorú</td></tr>",
                            "<tr><td>1298</td><td>Fiatal</td></tr>",
                            "<tr><td>983</td><td>Fiatal</td></tr>",
                            "<tr><td>927</td><td>Fiatal</td></tr>",
                            "<tr><td>1142</td><td>Fiatal</td></tr>",
                            "<tr><td>1094</td><td>Fiatal</td></tr>",
                            "<tr><td>1153</td><td>Fiatal</td></tr>",
                            "<tr><td>731</td><td>Fiatal</td></tr>",
                            "<tr><td>796</td><td>Fiatal</td></tr>",
                            "<tr><td>662</td><td>Fiatal</td></tr>",
                            "<tr><td>643</td><td>Fiatal</td></tr>",
                            "<tr><td>786</td><td>Fiatal</td></tr>",
                            "<tr><td>1014</td><td>Fiatal</td></tr>",
                            "<tr><td>1330</td><td>Fiatal</td></tr>",
                            "<tr><td>1297</td><td>Fiatal</td></tr>",
                            "<tr><td>1319</td><td>Középkorú</td></tr>",
                            "<tr><td>1514</td><td>Fiatal</td></tr>",
                            "<tr><td>1173</td><td>Fiatal</td></tr>",
                            "<tr><td>722</td><td>Fiatal</td></tr>",
                            "<tr><td>744</td><td>Fiatal</td></tr>",
                            "<tr><td>826</td><td>Fiatal</td></tr>",
                            "<tr><td>809</td><td>Fiatal</td></tr>",
                            "<tr><td>1295</td><td>Fiatal</td></tr>",
                            "<tr><td>1232</td><td>Középkorú</td></tr>",
                            "<tr><td>1464</td><td>Középkorú</td></tr>",
                            "<tr><td>1047</td><td>Középkorú</td></tr>",
                            "<tr><td>1053</td><td>Fiatal</td></tr>",
                            "<tr><td>1128</td><td>Fiatal</td></tr>",
                            "<tr><td>725</td><td>Fiatal</td></tr>",
                            "<tr><td>793</td><td>Idős</td></tr>",
                            "<tr><td>780</td><td>Idős</td></tr>",
                            "<tr><td>607</td><td>Idős</td></tr>",
                            "<tr><td>578</td><td>Idős</td></tr>",
                            "<tr><td>581</td><td>Idős</td></tr>",
                            "<tr><td>1149</td><td>Idős</td></tr>",
                            "<tr><td>986</td><td>Középkorú</td></tr>",
                            "<tr><td>1519</td><td>Középkorú</td></tr>",
                            "<tr><td>1560</td><td>Középkorú</td></tr>",
                            "<tr><td>1031</td><td>Középkorú</td></tr>",
                            "<tr><td>1158</td><td>Középkorú</td></tr>",
                            "<tr><td>704</td><td>Középkorú</td></tr>",
                            "<tr><td>679</td><td>Fiatal</td></tr>",
                            "<tr><td>590</td><td>Fiatal</td></tr>",
                            "<tr><td>827</td><td>Fiatal</td></tr>",
                            "<tr><td>855</td><td>Fiatal</td></tr>",
                            "<tr><td>1216</td><td>Fiatal</td></tr>",
                            "<tr><td>1132</td><td>Fiatal</td></tr>",
                            "<tr><td>988</td><td>Fiatal</td></tr>",
                            "<tr><td>1271</td><td>Fiatal</td></tr>",
                            "<tr><td>1551</td><td>Középkorú</td></tr>",
                            "<tr><td>1553</td><td>Középkorú</td></tr>",
                            "<tr><td>1113</td><td>Középkorú</td></tr>",
                            "<tr><td>1085</td><td>Középkorú</td></tr>",
                            "<tr><td>921</td><td>Fiatal</td></tr>",
                            "<tr><td>1483</td><td>Fiatal</td></tr>",
                            "<tr><td>1539</td><td>Középkorú</td></tr>",
                            "<tr><td>1432</td><td>Középkorú</td></tr>",
                            "<tr><td>1274</td><td>Középkorú</td></tr>",
                            "<tr><td>936</td><td>Középkorú</td></tr>",
                            "<tr><td>1075</td><td>Középkorú</td></tr>",
                            "<tr><td>1182</td><td>Középkorú</td></tr>",
                            "<tr><td>1007</td><td>Középkorú</td></tr>",
                            "<tr><td>576</td><td>Középkorú</td></tr>",
                            "<tr><td>1249</td><td>Középkorú</td></tr>",
                            "<tr><td>1453</td><td>Középkorú</td></tr>",
                            "<tr><td>1573</td><td>Középkorú</td></tr>",
                            "<tr><td>1558</td><td>Fiatal</td></tr>",
                            "<tr><td>1412</td><td>Fiatal</td></tr>",
                            "<tr><td>1485</td><td>Fiatal</td></tr>",
                            "<tr><td>1248</td><td>Fiatal</td></tr>",
                            "<tr><td>1240</td><td>Fiatal</td></tr>",
                            "<tr><td>1353</td><td>Fiatal</td></tr>",
                            "<tr><td>559</td><td>Fiatal</td></tr>",
                            "<tr><td>645</td><td>Fiatal</td></tr>",
                            "<tr><td>758</td><td>Fiatal</td></tr>",
                            "<tr><td>1003</td><td>Fiatal</td></tr>",
                            "<tr><td>1037</td><td>Fiatal</td></tr>",
                            "<tr><td>932</td><td>Fiatal</td></tr>",
                            "<tr><td>902</td><td>Fiatal</td></tr>",
                            "<tr><td>908</td><td>Fiatal</td></tr>",
                            "<tr><td>1150</td><td>Fiatal</td></tr>",
                            "<tr><td>1084</td><td>Fiatal</td></tr>",
                            "<tr><td>811</td><td>Fiatal</td></tr>",
                            "<tr><td>1387</td><td>Fiatal</td></tr>",
                            "<tr><td>1256</td><td>Fiatal</td></tr>",
                            "<tr><td>1550</td><td>Fiatal</td></tr>",
                            "<tr><td>1538</td><td>Fiatal</td></tr>",
                            "<tr><td>1377</td><td>Fiatal</td></tr>",
                            "<tr><td>670</td><td>Fiatal</td></tr>",
                            "<tr><td>912</td><td>Fiatal</td></tr>",
                            "<tr><td>873</td><td>Fiatal</td></tr>",
                            "<tr><td>771</td><td>Fiatal</td></tr>",
                            "<tr><td>1361</td><td>Fiatal</td></tr>",
                            "<tr><td>1268</td><td>Fiatal</td></tr>",
                            "<tr><td>1522</td><td>Fiatal</td></tr>",
                            "<tr><td>1383</td><td>Középkorú</td></tr>",
                            "<tr><td>1090</td><td>Középkorú</td></tr>",
                            "<tr><td>1135</td><td>Középkorú</td></tr>",
                            "<tr><td>1152</td><td>Középkorú</td></tr>",
                            "<tr><td>1219</td><td>Középkorú</td></tr>",
                            "<tr><td>1270</td><td>Középkorú</td></tr>",
                            "<tr><td>1468</td><td>Középkorú</td></tr>",
                            "<tr><td>1408</td><td>Középkorú</td></tr>",
                            "<tr><td>1535</td><td>Középkorú</td></tr>",
                            "<tr><td>797</td><td>Középkorú</td></tr>",
                            "<tr><td>660</td><td>Fiatal</td></tr>",
                            "<tr><td>903</td><td>Fiatal</td></tr>",
                            "<tr><td>1231</td><td>Fiatal</td></tr>",
                            "<tr><td>1559</td><td>Fiatal</td></tr>",
                            "<tr><td>1518</td><td>Fiatal</td></tr>",
                            "<tr><td>1515</td><td>Fiatal</td></tr>",
                            "<tr><td>1399</td><td>Fiatal</td></tr>",
                            "<tr><td>1410</td><td>Fiatal</td></tr>",
                            "<tr><td>703</td><td>Fiatal</td></tr>",
                            "<tr><td>622</td><td>Fiatal</td></tr>",
                            "<tr><td>582</td><td>Középkorú</td></tr>",
                            "<tr><td>691</td><td>Középkorú</td></tr>",
                            "<tr><td>851</td><td>Középkorú</td></tr>",
                            "<tr><td>863</td><td>Középkorú</td></tr>",
                            "<tr><td>805</td><td>Középkorú</td></tr>",
                            "<tr><td>1045</td><td>Középkorú</td></tr>",
                            "<tr><td>1019</td><td>Középkorú</td></tr>",
                            "<tr><td>1023</td><td>Középkorú</td></tr>",
                            "<tr><td>1239</td><td>Középkorú</td></tr>",
                            "<tr><td>1346</td><td>Fiatal</td></tr>",
                            "<tr><td>1459</td><td>Fiatal</td></tr>",
                            "<tr><td>1054</td><td>Fiatal</td></tr>",
                            "<tr><td>816</td><td>Fiatal</td></tr>",
                            "<tr><td>728</td><td>Fiatal</td></tr>",
                            "<tr><td>678</td><td>Fiatal</td></tr>",
                            "<tr><td>595</td><td>Fiatal</td></tr>",
                            "<tr><td>1137</td><td>Fiatal</td></tr>",
                            "<tr><td>1315</td><td>Fiatal</td></tr>",
                            "<tr><td>1376</td><td>Fiatal</td></tr>",
                            "<tr><td>1257</td><td>Fiatal</td></tr>",
                            "<tr><td>1416</td><td>Fiatal</td></tr>",
                            "<tr><td>1404</td><td>Fiatal</td></tr>",
                            "<tr><td>924</td><td>Fiatal</td></tr>",
                            "<tr><td>933</td><td>Fiatal</td></tr>",
                            "<tr><td>717</td><td>Fiatal</td></tr>",
                            "<tr><td>752</td><td>Fiatal</td></tr>",
                            "<tr><td>1341</td><td>Fiatal</td></tr>",
                            "<tr><td>1382</td><td>Középkorú</td></tr>",
                            "<tr><td>760</td><td>Középkorú</td></tr>",
                            "<tr><td>823</td><td>Fiatal</td></tr>",
                            "<tr><td>896</td><td>Fiatal</td></tr>",
                            "<tr><td>591</td><td>Fiatal</td></tr>",
                            "<tr><td>1117</td><td>Fiatal</td></tr>",
                            "<tr><td>1185</td><td>Középkorú</td></tr>",
                            "<tr><td>941</td><td>Középkorú</td></tr>",
                            "<tr><td>944</td><td>Középkorú</td></tr>",
                            "<tr><td>972</td><td>Középkorú</td></tr>",
                            "<tr><td>768</td><td>Középkorú</td></tr>",
                            "<tr><td>1370</td><td>Középkorú</td></tr>",
                            "<tr><td>1359</td><td>Középkorú</td></tr>",
                            "<tr><td>1279</td><td>Középkorú</td></tr>",
                            "<tr><td>1512</td><td>Középkorú</td></tr>",
                            "<tr><td>1490</td><td>Középkorú</td></tr>",
                            "<tr><td>1381</td><td>Középkorú</td></tr>",
                            "<tr><td>952</td><td>Középkorú</td></tr>",
                            "<tr><td>1098</td><td>Középkorú</td></tr>",
                            "<tr><td>1099</td><td>Középkorú</td></tr>",
                            "<tr><td>737</td><td>Fiatal</td></tr>",
                            "<tr><td>838</td><td>Fiatal</td></tr>",
                            "<tr><td>719</td><td>Fiatal</td></tr>",
                            "<tr><td>1337</td><td>Fiatal</td></tr>",
                            "<tr><td>1238</td><td>Fiatal</td></tr>",
                            "<tr><td>1368</td><td>Fiatal</td></tr>",
                            "<tr><td>1501</td><td>Fiatal</td></tr>",
                            "<tr><td>1400</td><td>Fiatal</td></tr>",
                            "<tr><td>713</td><td>Fiatal</td></tr>",
                            "<tr><td>714</td><td>Fiatal</td></tr>",
                            "<tr><td>626</td><td>Fiatal</td></tr>",
                            "<tr><td>847</td><td>Fiatal</td></tr>",
                            "<tr><td>1220</td><td>Fiatal</td></tr>",
                            "<tr><td>1179</td><td>Középkorú</td></tr>",
                            "<tr><td>900</td><td>Középkorú</td></tr>",
                            "<tr><td>745</td><td>Középkorú</td></tr>",
                            "<tr><td>646</td><td>Középkorú</td></tr>",
                            "<tr><td>1521</td><td>Középkorú</td></tr>",
                            "<tr><td>1326</td><td>Középkorú</td></tr>",
                            "<tr><td>1533</td><td>Középkorú</td></tr>",
                            "<tr><td>953</td><td>Középkorú</td></tr>",
                            "<tr><td>1155</td><td>Középkorú</td></tr>",
                            "<tr><td>1210</td><td>Középkorú</td></tr>",
                            "<tr><td>1200</td><td>Középkorú</td></tr>",
                            "<tr><td>1130</td><td>Középkorú</td></tr>",
                            "<tr><td>1229</td><td>Fiatal</td></tr>",
                            "<tr><td>969</td><td>Fiatal</td></tr>",
                            "<tr><td>1035</td><td>Fiatal</td></tr>",
                            "<tr><td>612</td><td>Fiatal</td></tr>",
                            "<tr><td>824</td><td>Fiatal</td></tr>",
                            "<tr><td>812</td><td>Fiatal</td></tr>",
                            "<tr><td>1472</td><td>Fiatal</td></tr>",
                            "<tr><td>1411</td><td>Fiatal</td></tr>",
                            "<tr><td>1477</td><td>Fiatal</td></tr>",
                            "<tr><td>584</td><td>Fiatal</td></tr>",
                            "<tr><td>570</td><td>Fiatal</td></tr>",
                            "<tr><td>942</td><td>Fiatal</td></tr>",
                            "<tr><td>925</td><td>Fiatal</td></tr>",
                            "<tr><td>1120</td><td>Fiatal</td></tr>",
                            "<tr><td>654</td><td>Középkorú</td></tr>",
                            "<tr><td>1536</td><td>Középkorú</td></tr>",
                            "<tr><td>1322</td><td>Középkorú</td></tr>",
                            "<tr><td>1241</td><td>Középkorú</td></tr>",
                            "<tr><td>1555</td><td>Középkorú</td></tr>",
                            "<tr><td>1373</td><td>Középkorú</td></tr>",
                            "<tr><td>832</td><td>Középkorú</td></tr>",
                            "<tr><td>876</td><td>Középkorú</td></tr>",
                            "<tr><td>1174</td><td>Középkorú</td></tr>",
                            "<tr><td>1147</td><td>Fiatal</td></tr>",
                            "<tr><td>957</td><td>Fiatal</td></tr>",
                            "<tr><td>886</td><td>Fiatal</td></tr>",
                            "<tr><td>1243</td><td>Fiatal</td></tr>",
                            "<tr><td>1513</td><td>Fiatal</td></tr>",
                            "<tr><td>1531</td><td>Középkorú</td></tr>",
                            "<tr><td>1277</td><td>Középkorú</td></tr>",
                            "<tr><td>613</td><td>Középkorú</td></tr>",
                            "<tr><td>623</td><td>Középkorú</td></tr>",
                            "<tr><td>951</td><td>Középkorú</td></tr>",
                            "<tr><td>943</td><td>Középkorú</td></tr>",
                            "<tr><td>906</td><td>Középkorú</td></tr>",
                            "<tr><td>1021</td><td>Középkorú</td></tr>",
                            "<tr><td>1024</td><td>Fiatal</td></tr>",
                            "<tr><td>1068</td><td>Fiatal</td></tr>",
                            "<tr><td>909</td><td>Fiatal</td></tr>",
                            "<tr><td>761</td><td>Fiatal</td></tr>",
                            "<tr><td>1303</td><td>Fiatal</td></tr>",
                            "<tr><td>1451</td><td>Fiatal</td></tr>",
                            "<tr><td>1571</td><td>Fiatal</td></tr>",
                            "<tr><td>1395</td><td>Középkorú</td></tr>",
                            "<tr><td>1520</td><td>Középkorú</td></tr>",
                            "<tr><td>1554</td><td>Középkorú</td></tr>",
                            "<tr><td>1278</td><td>Középkorú</td></tr>",
                            "<tr><td>594</td><td>Középkorú</td></tr>",
                            "<tr><td>629</td><td>Középkorú</td></tr>",
                            "<tr><td>575</td><td>Középkorú</td></tr>",
                            "<tr><td>1036</td><td>Középkorú</td></tr>",
                            "<tr><td>573</td><td>Idős</td></tr>",
                            "<tr><td>635</td><td>Idős</td></tr>",
                            "<tr><td>859</td><td>Idős</td></tr>",
                            "<tr><td>1269</td><td>Idős</td></tr>",
                            "<tr><td>1309</td><td>Idős</td></tr>",
                            "<tr><td>1419</td><td>Idős</td></tr>",
                            "<tr><td>1580</td><td>Idős</td></tr>",
                            "<tr><td>1454</td><td>Középkorú</td></tr>",
                            "<tr><td>807</td><td>Középkorú</td></tr>",
                            "<tr><td>801</td><td>Középkorú</td></tr>",
                            "<tr><td>653</td><td>Középkorú</td></tr>",
                            "<tr><td>681</td><td>Középkorú</td></tr>",
                            "<tr><td>994</td><td>Középkorú</td></tr>",
                            "<tr><td>938</td><td>Középkorú</td></tr>",
                            "<tr><td>1227</td><td>Középkorú</td></tr>",
                            "<tr><td>1104</td><td>Középkorú</td></tr>",
                            "<tr><td>1072</td><td>Középkorú</td></tr>",
                            "<tr><td>1407</td><td>Középkorú</td></tr>",
                            "<tr><td>1546</td><td>Középkorú</td></tr>",
                            "<tr><td>1296</td><td>Középkorú</td></tr>",
                            "<tr><td>1572</td><td>Középkorú</td></tr>",
                            "<tr><td>1540</td><td>Fiatal</td></tr>",
                            "<tr><td>1494</td><td>Középkorú</td></tr>",
                            "<tr><td>1470</td><td>Középkorú</td></tr>",
                            "<tr><td>1214</td><td>Középkorú</td></tr>",
                            "<tr><td>977</td><td>Középkorú</td></tr>",
                            "<tr><td>690</td><td>Középkorú</td></tr>",
                            "<tr><td>804</td><td>Középkorú</td></tr>",
                            "<tr><td>783</td><td>Középkorú</td></tr>",
                            "<tr><td>746</td><td>Középkorú</td></tr>",
                            "<tr><td>862</td><td>Középkorú</td></tr>",
                            "<tr><td>1254</td><td>Középkorú</td></tr>",
                            "<tr><td>1304</td><td>Fiatal</td></tr>",
                            "<tr><td>825</td><td>Fiatal</td></tr>",
                            "<tr><td>785</td><td>Fiatal</td></tr>",
                            "<tr><td>1215</td><td>Fiatal</td></tr>",
                            "<tr><td>1140</td><td>Fiatal</td></tr>",
                            "<tr><td>1065</td><td>Középkorú</td></tr>",
                            "<tr><td>1061</td><td>Középkorú</td></tr>",
                            "<tr><td>773</td><td>Középkorú</td></tr>",
                            "<tr><td>750</td><td>Középkorú</td></tr>",
                            "<tr><td>672</td><td>Középkorú</td></tr>",
                            "<tr><td>1440</td><td>Középkorú</td></tr>",
                            "<tr><td>1509</td><td>Középkorú</td></tr>",
                            "<tr><td>1484</td><td>Fiatal</td></tr>",
                            "<tr><td>1313</td><td>Fiatal</td></tr>",
                            "<tr><td>1354</td><td>Fiatal</td></tr>",
                            "<tr><td>706</td><td>Fiatal</td></tr>",
                            "<tr><td>765</td><td>Fiatal</td></tr>",
                            "<tr><td>1083</td><td>Fiatal</td></tr>",
                            "<tr><td>1119</td><td>Fiatal</td></tr>",
                            "<tr><td>1193</td><td>Fiatal</td></tr>",
                            "<tr><td>772</td><td>Fiatal</td></tr>",
                            "<tr><td>1385</td><td>Fiatal</td></tr>",
                            "<tr><td>1345</td><td>Fiatal</td></tr>",
                            "<tr><td>1246</td><td>Fiatal</td></tr>",
                            "<tr><td>1097</td><td>Fiatal</td></tr>",
                            "<tr><td>993</td><td>Fiatal</td></tr>",
                            "<tr><td>1475</td><td>Fiatal</td></tr>",
                            "<tr><td>1421</td><td>Fiatal</td></tr>",
                            "<tr><td>1574</td><td>Fiatal</td></tr>",
                            "<tr><td>1516</td><td>Középkorú</td></tr>",
                            "<tr><td>1235</td><td>Középkorú</td></tr>",
                            "<tr><td>874</td><td>Középkorú</td></tr>",
                            "<tr><td>688</td><td>Középkorú</td></tr>",
                            "<tr><td>1125</td><td>Idős</td></tr>",
                            "<tr><td>1438</td><td>Idős</td></tr>",
                            "<tr><td>1423</td><td>Középkorú</td></tr>",
                            "<tr><td>1255</td><td>Középkorú</td></tr>",
                            "<tr><td>1349</td><td>Középkorú</td></tr>",
                            "<tr><td>1495</td><td>Középkorú</td></tr>",
                            "<tr><td>1157</td><td>Középkorú</td></tr>",
                            "<tr><td>1160</td><td>Középkorú</td></tr>",
                            "<tr><td>614</td><td>Középkorú</td></tr>",
                            "<tr><td>842</td><td>Középkorú</td></tr>",
                            "<tr><td>625</td><td>Középkorú</td></tr>",
                            "<tr><td>1131</td><td>Középkorú</td></tr>",
                            "<tr><td>966</td><td>Középkorú</td></tr>",
                            "<tr><td>1262</td><td>Középkorú</td></tr>",
                            "<tr><td>1305</td><td>Fiatal</td></tr>",
                            "<tr><td>1467</td><td>Fiatal</td></tr>",
                            "<tr><td>996</td><td>Fiatal</td></tr>",
                            "<tr><td>1088</td><td>Fiatal</td></tr>",
                            "<tr><td>667</td><td>Fiatal</td></tr>",
                            "<tr><td>828</td><td>Fiatal</td></tr>",
                            "<tr><td>889</td><td>Fiatal</td></tr>",
                            "<tr><td>844</td><td>Középkorú</td></tr>",
                            "<tr><td>730</td><td>Középkorú</td></tr>",
                            "<tr><td>973</td><td>Középkorú</td></tr>",
                            "<tr><td>1291</td><td>Középkorú</td></tr>",
                            "<tr><td>1260</td><td>Fiatal</td></tr>",
                            "<tr><td>841</td><td>Fiatal</td></tr>",
                            "<tr><td>603</td><td>Fiatal</td></tr>",
                            "<tr><td>593</td><td>Középkorú</td></tr>",
                            "<tr><td>710</td><td>Középkorú</td></tr>",
                            "<tr><td>1022</td><td>Középkorú</td></tr>",
                            "<tr><td>1496</td><td>Középkorú</td></tr>",
                            "<tr><td>1524</td><td>Középkorú</td></tr>",
                            "<tr><td>1556</td><td>Középkorú</td></tr>",
                            "<tr><td>1114</td><td>Idős</td></tr>",
                            "<tr><td>1064</td><td>Középkorú</td></tr>",
                            "<tr><td>962</td><td>Középkorú</td></tr>",
                            "<tr><td>831</td><td>Középkorú</td></tr>",
                            "<tr><td>788</td><td>Középkorú</td></tr>",
                            "<tr><td>756</td><td>Idős</td></tr>",
                            "<tr><td>621</td><td>Idős</td></tr>",
                            "<tr><td>1106</td><td>Idős</td></tr>",
                            "<tr><td>1563</td><td>Idős</td></tr>",
                            "<tr><td>1492</td><td>Idős</td></tr>",
                            "<tr><td>1463</td><td>Középkorú</td></tr>",
                            "<tr><td>1265</td><td>Középkorú</td></tr>",
                            "<tr><td>1335</td><td>Középkorú</td></tr>",
                            "<tr><td>1000</td><td>Középkorú</td></tr>",
                            "<tr><td>795</td><td>Középkorú</td></tr>",
                            "<tr><td>890</td><td>Középkorú</td></tr>",
                            "<tr><td>887</td><td>Középkorú</td></tr>",
                            "<tr><td>861</td><td>Középkorú</td></tr>",
                            "<tr><td>734</td><td>Középkorú</td></tr>",
                            "<tr><td>683</td><td>Középkorú</td></tr>",
                            "<tr><td>946</td><td>Középkorú</td></tr>",
                            "<tr><td>1527</td><td>Középkorú</td></tr>",
                            "<tr><td>1566</td><td>Középkorú</td></tr>",
                            "<tr><td>1476</td><td>Fiatal</td></tr>",
                            "<tr><td>1405</td><td>Fiatal</td></tr>",
                            "<tr><td>1452</td><td>Középkorú</td></tr>",
                            "<tr><td>1184</td><td>Középkorú</td></tr>",
                            "<tr><td>835</td><td>Középkorú</td></tr>",
                            "<tr><td>742</td><td>Fiatal</td></tr>",
                            "<tr><td>754</td><td>Fiatal</td></tr>",
                            "<tr><td>1393</td><td>Fiatal</td></tr>",
                            "<tr><td>1245</td><td>Fiatal</td></tr>",
                            "<tr><td>1209</td><td>Fiatal</td></tr>",
                            "<tr><td>1060</td><td>Fiatal</td></tr>",
                            "<tr><td>982</td><td>Középkorú</td></tr>",
                            "<tr><td>989</td><td>Középkorú</td></tr>",
                            "<tr><td>836</td><td>Középkorú</td></tr>",
                            "<tr><td>810</td><td>Középkorú</td></tr>",
                            "<tr><td>806</td><td>Középkorú</td></tr>",
                            "<tr><td>1499</td><td>Középkorú</td></tr>",
                            "<tr><td>1487</td><td>Középkorú</td></tr>",
                            "<tr><td>1413</td><td>Fiatal</td></tr>",
                            "<tr><td>1301</td><td>Fiatal</td></tr>",
                            "<tr><td>1127</td><td>Fiatal</td></tr>",
                            "<tr><td>599</td><td>Fiatal</td></tr>",
                            "<tr><td>583</td><td>Fiatal</td></tr>",
                            "<tr><td>1507</td><td>Fiatal</td></tr>",
                            "<tr><td>1087</td><td>Fiatal</td></tr>",
                            "<tr><td>998</td><td>Fiatal</td></tr>",
                            "<tr><td>1118</td><td>Idős</td></tr>",
                            "<tr><td>820</td><td>Idős</td></tr>",
                            "<tr><td>1526</td><td>Idős</td></tr>",
                            "<tr><td>1486</td><td>Középkorú</td></tr>",
                            "<tr><td>1402</td><td>Középkorú</td></tr>",
                            "<tr><td>1431</td><td>Középkorú</td></tr>",
                            "<tr><td>1259</td><td>Középkorú</td></tr>",
                            "<tr><td>840</td><td>Középkorú</td></tr>",
                            "<tr><td>789</td><td>Középkorú</td></tr>",
                            "<tr><td>1011</td><td>Középkorú</td></tr>",
                            "<tr><td>1314</td><td>Középkorú</td></tr>",
                            "<tr><td>1318</td><td>Középkorú</td></tr>",
                            "<tr><td>1378</td><td>Középkorú</td></tr>",
                            "<tr><td>1348</td><td>Középkorú</td></tr>",
                            "<tr><td>1050</td><td>Középkorú</td></tr>",
                            "<tr><td>1133</td><td>Középkorú</td></tr>",
                            "<tr><td>1039</td><td>Középkorú</td></tr>",
                            "<tr><td>1013</td><td>Középkorú</td></tr>",
                            "<tr><td>677</td><td>Középkorú</td></tr>",
                            "<tr><td>1321</td><td>Középkorú</td></tr>",
                            "<tr><td>1307</td><td>Középkorú</td></tr>",
                            "<tr><td>1426</td><td>Középkorú</td></tr>",
                            "<tr><td>1569</td><td>Középkorú</td></tr>",
                            "<tr><td>616</td><td>Középkorú</td></tr>",
                            "<tr><td>813</td><td>Középkorú</td></tr>",
                            "<tr><td>905</td><td>Középkorú</td></tr>",
                            "<tr><td>920</td><td>Fiatal</td></tr>",
                            "<tr><td>729</td><td>Fiatal</td></tr>",
                            "<tr><td>592</td><td>Fiatal</td></tr>",
                            "<tr><td>699</td><td>Fiatal</td></tr>",
                            "<tr><td>926</td><td>Fiatal</td></tr>",
                            "<tr><td>1577</td><td>Fiatal</td></tr>",
                            "<tr><td>1493</td><td>Középkorú</td></tr>",
                            "<tr><td>1244</td><td>Fiatal</td></tr>",
                            "<tr><td>1323</td><td>Fiatal</td></tr>",
                            "<tr><td>1218</td><td>Fiatal</td></tr>",
                            "<tr><td>692</td><td>Fiatal</td></tr>",
                            "<tr><td>568</td><td>Idős</td></tr>",
                            "<tr><td>814</td><td>Idős</td></tr>",
                            "<tr><td>885</td><td>Idős</td></tr>",
                            "<tr><td>1070</td><td>Idős</td></tr>",
                            "<tr><td>931</td><td>Idős</td></tr>",
                            "<tr><td>1016</td><td>Idős</td></tr>",
                            "<tr><td>999</td><td>Idős</td></tr>",
                            "<tr><td>1439</td><td>Idős</td></tr>",
                            "<tr><td>1388</td><td>Idős</td></tr>",
                            "<tr><td>1360</td><td>Idős</td></tr>",
                            "<tr><td>1570</td><td>Idős</td></tr>",
                            "<tr><td>1198</td><td>Idős</td></tr>",
                            "<tr><td>572</td><td>Idős</td></tr>",
                            "<tr><td>1002</td><td>Fiatal</td></tr>",
                            "<tr><td>1340</td><td>Fiatal</td></tr>",
                            "<tr><td>1325</td><td>Fiatal</td></tr>",
                            "<tr><td>1455</td><td>Fiatal</td></tr>",
                            "<tr><td>1473</td><td>Fiatal</td></tr>",
                            "<tr><td>911</td><td>Fiatal</td></tr>",
                            "<tr><td>914</td><td>Fiatal</td></tr>",
                            "<tr><td>1192</td><td>Fiatal</td></tr>",
                            "<tr><td>1221</td><td>Fiatal</td></tr>",
                            "<tr><td>665</td><td>Fiatal</td></tr>",
                            "<tr><td>723</td><td>Fiatal</td></tr>",
                            "<tr><td>751</td><td>Fiatal</td></tr>",
                            "<tr><td>819</td><td>Középkorú</td></tr>",
                            "<tr><td>633</td><td>Középkorú</td></tr>",
                            "<tr><td>574</td><td>Középkorú</td></tr>",
                            "<tr><td>956</td><td>Középkorú</td></tr>",
                            "<tr><td>1029</td><td>Középkorú</td></tr>",
                            "<tr><td>1458</td><td>Középkorú</td></tr>",
                            "<tr><td>1414</td><td>Középkorú</td></tr>",
                            "<tr><td>1247</td><td>Középkorú</td></tr>",
                            "<tr><td>922</td><td>Középkorú</td></tr>",
                            "<tr><td>1108</td><td>Középkorú</td></tr>",
                            "<tr><td>1115</td><td>Középkorú</td></tr>",
                            "<tr><td>1077</td><td>Középkorú</td></tr>",
                            "<tr><td>627</td><td>Középkorú</td></tr>",
                            "<tr><td>888</td><td>Középkorú</td></tr>",
                            "<tr><td>565</td><td>Középkorú</td></tr>",
                            "<tr><td>1096</td><td>Középkorú</td></tr>",
                            "<tr><td>1105</td><td>Középkorú</td></tr>",
                            "<tr><td>1095</td><td>Középkorú</td></tr>",
                            "<tr><td>656</td><td>Középkorú</td></tr>",
                            "<tr><td>821</td><td>Középkorú</td></tr>",
                            "<tr><td>1498</td><td>Középkorú</td></tr>",
                            "<tr><td>1584</td><td>Középkorú</td></tr>",
                            "<tr><td>1564</td><td>Középkorú</td></tr>",
                            "<tr><td>1445</td><td>Középkorú</td></tr>",
                            "<tr><td>1237</td><td>Középkorú</td></tr>",
                            "<tr><td>1358</td><td>Középkorú</td></tr>",
                            "<tr><td>894</td><td>Középkorú</td></tr>",
                            "<tr><td>747</td><td>Középkorú</td></tr>",
                            "<tr><td>732</td><td>Középkorú</td></tr>",
                            "<tr><td>1161</td><td>Középkorú</td></tr>",
                            "<tr><td>929</td><td>Középkorú</td></tr>",
                            "<tr><td>901</td><td>Idős</td></tr>",
                            "<tr><td>1020</td><td>Idős</td></tr>",
                            "<tr><td>749</td><td>Idős</td></tr>",
                            "<tr><td>566</td><td>Idős</td></tr>",
                            "<tr><td>1392</td><td>Idős</td></tr>",
                            "<tr><td>1502</td><td>Középkorú</td></tr>",
                            "<tr><td>1542</td><td>Középkorú</td></tr>",
                            "<tr><td>1266</td><td>Középkorú</td></tr>",
                            "<tr><td>659</td><td>Középkorú</td></tr>",
                            "<tr><td>1012</td><td>Középkorú</td></tr>",
                            "<tr><td>1067</td><td>Középkorú</td></tr>",
                            "<tr><td>1055</td><td>Idős</td></tr>",
                            "<tr><td>964</td><td>Idős</td></tr>",
                            "<tr><td>1217</td><td>Idős</td></tr>",
                            "<tr><td>608</td><td>Idős</td></tr>",
                            "<tr><td>1460</td><td>Idős</td></tr>",
                            "<tr><td>1474</td><td>Fiatal</td></tr>",
                            "<tr><td>597</td><td>Fiatal</td></tr>",
                            "<tr><td>763</td><td>Fiatal</td></tr>",
                            "<tr><td>682</td><td>Középkorú</td></tr>",
                            "<tr><td>1394</td><td>Középkorú</td></tr>",
                            "<tr><td>1449</td><td>Fiatal</td></tr>",
                            "<tr><td>1425</td><td>Fiatal</td></tr>",
                            "<tr><td>696</td><td>Fiatal</td></tr>",
                            "<tr><td>716</td><td>Fiatal</td></tr>",
                            "<tr><td>1223</td><td>Fiatal</td></tr>",
                            "<tr><td>961</td><td>Fiatal</td></tr>",
                            "<tr><td>1078</td><td>Idős</td></tr>",
                            "<tr><td>1032</td><td>Középkorú</td></tr>",
                            "<tr><td>604</td><td>Középkorú</td></tr>",
                            "<tr><td>561</td><td>Középkorú</td></tr>",
                            "<tr><td>778</td><td>Középkorú</td></tr>",
                            "<tr><td>1320</td><td>Középkorú</td></tr>",
                            "<tr><td>1510</td><td>Idős</td></tr>",
                            "<tr><td>947</td><td>Idős</td></tr>",
                            "<tr><td>899</td><td>Idős</td></tr>",
                            "<tr><td>934</td><td>Idős</td></tr>",
                            "<tr><td>1111</td><td>Idős</td></tr>",
                            "<tr><td>1548</td><td>Idős</td></tr>",
                            "<tr><td>1264</td><td>Fiatal</td></tr>",
                            "<tr><td>1567</td><td>Fiatal</td></tr>",
                            "<tr><td>767</td><td>Fiatal</td></tr>",
                            "<tr><td>864</td><td>Fiatal</td></tr>",
                            "<tr><td>642</td><td>Fiatal</td></tr>",
                            "<tr><td>588</td><td>Fiatal</td></tr>",
                            "<tr><td>764</td><td>Fiatal</td></tr>",
                            "<tr><td>958</td><td>Fiatal</td></tr>",
                            "<tr><td>1293</td><td>Fiatal</td></tr>",
                            "<tr><td>1462</td><td>Fiatal</td></tr>",
                            "<tr><td>1052</td><td>Fiatal</td></tr>",
                            "<tr><td>1082</td><td>Fiatal</td></tr>",
                            "<tr><td>1076</td><td>Fiatal</td></tr>",
                            "<tr><td>1042</td><td>Fiatal</td></tr>",
                            "<tr><td>979</td><td>Fiatal</td></tr>",
                            "<tr><td>916</td><td>Fiatal</td></tr>",
                            "<tr><td>769</td><td>Fiatal</td></tr>",
                            "<tr><td>605</td><td>Fiatal</td></tr>",
                            "<tr><td>1582</td><td>Fiatal</td></tr>",
                            "<tr><td>1446</td><td>Fiatal</td></tr>",
                            "<tr><td>794</td><td>Fiatal</td></tr>",
                            "<tr><td>1107</td><td>Fiatal</td></tr>",
                            "<tr><td>664</td><td>Középkorú</td></tr>",
                            "<tr><td>1356</td><td>Középkorú</td></tr>",
                            "<tr><td>1380</td><td>Középkorú</td></tr>",
                            "<tr><td>1429</td><td>Középkorú</td></tr>",
                            "<tr><td>707</td><td>Középkorú</td></tr>",
                            "<tr><td>636</td><td>Középkorú</td></tr>",
                            "<tr><td>1143</td><td>Középkorú</td></tr>",
                            "<tr><td>1226</td><td>Középkorú</td></tr>",
                            "<tr><td>875</td><td>Középkorú</td></tr>",
                            "<tr><td>1505</td><td>Középkorú</td></tr>",
                            "<tr><td>1234</td><td>Középkorú</td></tr>",
                            "<tr><td>1283</td><td>Fiatal</td></tr>",
                            "<tr><td>589</td><td>Fiatal</td></tr>",
                            "<tr><td>687</td><td>Középkorú</td></tr>",
                            "<tr><td>987</td><td>Középkorú</td></tr>",
                            "<tr><td>1344</td><td>Középkorú</td></tr>",
                            "<tr><td>1267</td><td>Középkorú</td></tr>",
                            "<tr><td>1506</td><td>Középkorú</td></tr>",
                            "<tr><td>1562</td><td>Középkorú</td></tr>",
                            "<tr><td>609</td><td>Középkorú</td></tr>",
                            "<tr><td>558</td><td>Idős</td></tr>",
                            "<tr><td>1503</td><td>Idős</td></tr>",
                            "<tr><td>1242</td><td>Idős</td></tr>",
                            "<tr><td>853</td><td>Középkorú</td></tr>",
                            "<tr><td>1178</td><td>Középkorú</td></tr>",
                            "<tr><td>992</td><td>Középkorú</td></tr>",
                            "<tr><td>877</td><td>Középkorú</td></tr>",
                            "<tr><td>775</td><td>Középkorú</td></tr>",
                            "<tr><td>564</td><td>Középkorú</td></tr>",
                            "<tr><td>634</td><td>Középkorú</td></tr>",
                            "<tr><td>1355</td><td>Középkorú</td></tr>",
                            "<tr><td>1488</td><td>Középkorú</td></tr>",
                            "<tr><td>663</td><td>Fiatal</td></tr>",
                            "<tr><td>720</td><td>Fiatal</td></tr>",
                            "<tr><td>928</td><td>Fiatal</td></tr>",
                            "<tr><td>1073</td><td>Fiatal</td></tr>",
                            "<tr><td>1528</td><td>Idős</td></tr>",
                            "<tr><td>1365</td><td>Idős</td></tr>",
                            "<tr><td>1285</td><td>Idős</td></tr>",
                            "<tr><td>1233</td><td>Fiatal</td></tr>",
                            "<tr><td>1482</td><td>Fiatal</td></tr>",
                            "<tr><td>1028</td><td>Fiatal</td></tr>",
                            "<tr><td>632</td><td>Fiatal</td></tr>",
                            "<tr><td>724</td><td>Fiatal</td></tr>",
                            "<tr><td>871</td><td>Középkorú</td></tr>",
                            "<tr><td>569</td><td>Középkorú</td></tr>",
                            "<tr><td>963</td><td>Középkorú</td></tr>",
                            "<tr><td>967</td><td>Középkorú</td></tr>",
                            "<tr><td>1123</td><td>Középkorú</td></tr>",
                            "<tr><td>1211</td><td>Középkorú</td></tr>",
                            "<tr><td>1333</td><td>Középkorú</td></tr>",
                            "<tr><td>1583</td><td>Középkorú</td></tr>",
                            "<tr><td>984</td><td>Középkorú</td></tr>",
                            "<tr><td>766</td><td>Középkorú</td></tr>",
                            "<tr><td>776</td><td>Idős</td></tr>",
                            "<tr><td>1058</td><td>Idős</td></tr>",
                            "<tr><td>1369</td><td>Idős</td></tr>",
                            "<tr><td>1530</td><td>Idős</td></tr>",
                            "<tr><td>1552</td><td>Idős</td></tr>",
                            "<tr><td>1579</td><td>Középkorú</td></tr>",
                            "<tr><td>1565</td><td>Középkorú</td></tr>",
                            "<tr><td>1201</td><td>Középkorú</td></tr>",
                            "<tr><td>671</td><td>Középkorú</td></tr>",
                            "<tr><td>1146</td><td>Középkorú</td></tr>",
                            "<tr><td>1004</td><td>Középkorú</td></tr>",
                            "<tr><td>1236</td><td>Középkorú</td></tr>",
                            "<tr><td>1282</td><td>Középkorú</td></tr>",
                            "<tr><td>1557</td><td>Középkorú</td></tr>",
                            "<tr><td>995</td><td>Középkorú</td></tr>",
                            "<tr><td>1228</td><td>Középkorú</td></tr>",
                            "<tr><td>726</td><td>Középkorú</td></tr>",
                            "<tr><td>759</td><td>Középkorú</td></tr>",
                            "<tr><td>815</td><td>Középkorú</td></tr>",
                            "<tr><td>577</td><td>Középkorú</td></tr>",
                            "<tr><td>1222</td><td>Középkorú</td></tr>",
                            "<tr><td>1188</td><td>Középkorú</td></tr>",
                            "<tr><td>1139</td><td>Középkorú</td></tr>",
                            "<tr><td>1080</td><td>Középkorú</td></tr>",
                            "<tr><td>1093</td><td>Középkorú</td></tr>",
                            "<tr><td>1043</td><td>Középkorú</td></tr>",
                            "<tr><td>1273</td><td>Középkorú</td></tr>",
                            "<tr><td>1316</td><td>Középkorú</td></tr>",
                            "<tr><td>1500</td><td>Középkorú</td></tr>",
                            "<tr><td>1287</td><td>Idős</td></tr>",
                            "<tr><td>1167</td><td>Idős</td></tr>",
                            "<tr><td>694</td><td>Idős</td></tr>",
                            "<tr><td>585</td><td>Fiatal</td></tr>",
                            "<tr><td>865</td><td>Fiatal</td></tr>",
                            "<tr><td>777</td><td>Fiatal</td></tr>",
                            "<tr><td>792</td><td>Fiatal</td></tr>",
                            "<tr><td>1517</td><td>Fiatal</td></tr>",
                            "<tr><td>1481</td><td>Fiatal</td></tr>",
                            "<tr><td>1284</td><td>Fiatal</td></tr>",
                            "<tr><td>1263</td><td>Fiatal</td></tr>",
                            "<tr><td>850</td><td>Fiatal</td></tr>",
                            "<tr><td>1116</td><td>Fiatal</td></tr>",
                            "<tr><td>1089</td><td>Idős</td></tr>",
                            "<tr><td>1033</td><td>Idős</td></tr>",
                            "<tr><td>748</td><td>Idős</td></tr>",
                            "<tr><td>721</td><td>Idős</td></tr>",
                            "<tr><td>1575</td><td>Idős</td></tr>",
                            "<tr><td>1471</td><td>Fiatal</td></tr>",
                            "<tr><td>1204</td><td>Fiatal</td></tr>",
                            "<tr><td>985</td><td>Fiatal</td></tr>",
                            "<tr><td>637</td><td>Fiatal</td></tr>",
                            "<tr><td>619</td><td>Fiatal</td></tr>",
                            "<tr><td>1532</td><td>Fiatal</td></tr>",
                            "<tr><td>647</td><td>Középkorú</td></tr>",
                            "<tr><td>802</td><td>Középkorú</td></tr>",
                            "<tr><td>1183</td><td>Középkorú</td></tr>",
                            "<tr><td>1197</td><td>Idős</td></tr>",
                            "<tr><td>1141</td><td>Idős</td></tr>",
                            "<tr><td>1129</td><td>Idős</td></tr>",
                            "<tr><td>1027</td><td>Idős</td></tr>",
                            "<tr><td>791</td><td>Idős</td></tr>",
                            "<tr><td>808</td><td>Idős</td></tr>",
                            "<tr><td>1545</td><td>Idős</td></tr>",
                            "<tr><td>739</td><td>Középkorú</td></tr>",
                            "<tr><td>1038</td><td>Középkorú</td></tr>",
                            "<tr><td>978</td><td>Idős</td></tr>",
                            "<tr><td>939</td><td>Idős</td></tr>",
                            "<tr><td>848</td><td>Idős</td></tr>",
                            "<tr><td>1294</td><td>Idős</td></tr>",
                            "<tr><td>1253</td><td>Középkorú</td></tr>",
                            "<tr><td>1448</td><td>Középkorú</td></tr>",
                            "<tr><td>1418</td><td>Középkorú</td></tr>",
                            "<tr><td>1433</td><td>Fiatal</td></tr>",
                            "<tr><td>1549</td><td>Fiatal</td></tr>",
                            "<tr><td>1041</td><td>Fiatal</td></tr>",
                            "<tr><td>1069</td><td>Középkorú</td></tr>",
                            "<tr><td>1010</td><td>Középkorú</td></tr>",
                            "<tr><td>800</td><td>Középkorú</td></tr>",
                            "<tr><td>686</td><td>Középkorú</td></tr>",
                            "<tr><td>640</td><td>Fiatal</td></tr>",
                            "<tr><td>1138</td><td>Fiatal</td></tr>",
                            "<tr><td>1181</td><td>Fiatal</td></tr>",
                            "<tr><td>1272</td><td>Fiatal</td></tr>",
                            "<tr><td>1331</td><td>Fiatal</td></tr>",
                            "<tr><td>1465</td><td>Fiatal</td></tr>",
                            "<tr><td>1311</td><td>Középkorú</td></tr>",
                            "<tr><td>1390</td><td>Középkorú</td></tr>",
                            "<tr><td>1289</td><td>Középkorú</td></tr>",
                            "<tr><td>1148</td><td>Középkorú</td></tr>",
                            "<tr><td>1212</td><td>Középkorú</td></tr>",
                            "<tr><td>1124</td><td>Középkorú</td></tr>",
                            "<tr><td>910</td><td>Középkorú</td></tr>",
                            "<tr><td>675</td><td>Középkorú</td></tr>",
                            "<tr><td>711</td><td>Középkorú</td></tr>",
                            "<tr><td>866</td><td>Középkorú</td></tr>",
                            "<tr><td>882</td><td>Középkorú</td></tr>",
                            "<tr><td>741</td><td>Fiatal</td></tr>",
                            "<tr><td>680</td><td>Fiatal</td></tr>",
                            "<tr><td>560</td><td>Fiatal</td></tr>",
                            "<tr><td>1062</td><td>Fiatal</td></tr>",
                            "<tr><td>1051</td><td>Fiatal</td></tr>",
                            "<tr><td>940</td><td>Fiatal</td></tr>",
                            "<tr><td>1195</td><td>Fiatal</td></tr>",
                            "<tr><td>563</td><td>Fiatal</td></tr>",
                            "<tr><td>602</td><td>Fiatal</td></tr>",
                            "<tr><td>1343</td><td>Fiatal</td></tr>",
                            "<tr><td>1276</td><td>Középkorú</td></tr>",
                            "<tr><td>1424</td><td>Középkorú</td></tr>",
                            "<tr><td>1497</td><td>Középkorú</td></tr>",
                            "<tr><td>735</td><td>Középkorú</td></tr>",
                            "<tr><td>1208</td><td>Középkorú</td></tr>",
                            "<tr><td>1163</td><td>Középkorú</td></tr>",
                            "<tr><td>971</td><td>Középkorú</td></tr>",
                            "<tr><td>1110</td><td>Idős</td></tr>",
                            "<tr><td>1071</td><td>Idős</td></tr>",
                            "<tr><td>830</td><td>Idős</td></tr>",
                            "<tr><td>596</td><td>Idős</td></tr>",
                            "<tr><td>718</td><td>Idős</td></tr>",
                            "<tr><td>1442</td><td>Idős</td></tr>",
                            "<tr><td>1401</td><td>Középkorú</td></tr>",
                            "<tr><td>1479</td><td>Középkorú</td></tr>",
                            "<tr><td>1391</td><td>Középkorú</td></tr>",
                            "<tr><td>715</td><td>Középkorú</td></tr>",
                            "<tr><td>644</td><td>Középkorú</td></tr>",
                            "<tr><td>870</td><td>Középkorú</td></tr>",
                            "<tr><td>1144</td><td>Középkorú</td></tr>",
                            "<tr><td>1191</td><td>Középkorú</td></tr>",
                            "<tr><td>1207</td><td>Középkorú</td></tr>",
                            "<tr><td>770</td><td>Középkorú</td></tr>",
                            "<tr><td>1280</td><td>Középkorú</td></tr>",
                            "<tr><td>1534</td><td>Középkorú</td></tr>",
                            "<tr><td>817</td><td>Középkorú</td></tr>",
                            "<tr><td>649</td><td>Középkorú</td></tr>",
                            "<tr><td>959</td><td>Középkorú</td></tr>",
                            "<tr><td>950</td><td>Fiatal</td></tr>",
                            "<tr><td>1044</td><td>Fiatal</td></tr>",
                            "<tr><td>991</td><td>Fiatal</td></tr>",
                            "<tr><td>1008</td><td>Fiatal</td></tr>",
                            "<tr><td>618</td><td>Fiatal</td></tr>",
                            "<tr><td>1525</td><td>Fiatal</td></tr>",
                            "<tr><td>1537</td><td>Fiatal</td></tr>",
                            "<tr><td>1357</td><td>Fiatal</td></tr>",
                            "<tr><td>1145</td><td>Fiatal</td></tr>",
                            "<tr><td>1170</td><td>Középkorú</td></tr>",
                            "<tr><td>1166</td><td>Fiatal</td></tr>",
                            "<tr><td>698</td><td>Fiatal</td></tr>",
                            "<tr><td>895</td><td>Fiatal</td></tr>",
                            "<tr><td>798</td><td>Fiatal</td></tr>",
                            "<tr><td>1389</td><td>Fiatal</td></tr>",
                            "<tr><td>1398</td><td>Fiatal</td></tr>",
                            "<tr><td>1362</td><td>Középkorú</td></tr>",
                            "<tr><td>1324</td><td>Középkorú</td></tr>",
                            "<tr><td>762</td><td>Középkorú</td></tr>",
                            "<tr><td>1196</td><td>Középkorú</td></tr>",
                            "<tr><td>913</td><td>Középkorú</td></tr>",
                            "<tr><td>918</td><td>Középkorú</td></tr>",
                            "<tr><td>1189</td><td>Középkorú</td></tr>",
                            "<tr><td>898</td><td>Középkorú</td></tr>",
                            "<tr><td>849</td><td>Középkorú</td></tr>",
                            "<tr><td>1363</td><td>Középkorú</td></tr>",
                            "<tr><td>1290</td><td>Középkorú</td></tr>",
                            "<tr><td>1415</td><td>Középkorú</td></tr>",
                            "<tr><td>1275</td><td>Fiatal</td></tr>",
                            "<tr><td>1334</td><td>Fiatal</td></tr>",
                            "<tr><td>856</td><td>Fiatal</td></tr>",
                            "<tr><td>1203</td><td>Fiatal</td></tr>",
                            "<tr><td>1081</td><td>Középkorú</td></tr>",
                            "<tr><td>883</td><td>Középkorú</td></tr>",
                            "<tr><td>695</td><td>Középkorú</td></tr>",
                            "<tr><td>1456</td><td>Középkorú</td></tr>",
                            "<tr><td>1491</td><td>Középkorú</td></tr>",
                            "<tr><td>753</td><td>Fiatal</td></tr>",
                            "<tr><td>1199</td><td>Fiatal</td></tr>",
                            "<tr><td>1151</td><td>Fiatal</td></tr>",
                            "<tr><td>919</td><td>Fiatal</td></tr>",
                            "<tr><td>879</td><td>Fiatal</td></tr>",
                            "<tr><td>843</td><td>Fiatal</td></tr>",
                            "<tr><td>774</td><td>Fiatal</td></tr>",
                            "<tr><td>617</td><td>Fiatal</td></tr>",
                            "<tr><td>1386</td><td>Fiatal</td></tr>",
                            "<tr><td>1375</td><td>Fiatal</td></tr>",
                            "<tr><td>1288</td><td>Fiatal</td></tr>",
                            "<tr><td>822</td><td>Középkorú</td></tr>",
                            "<tr><td>1030</td><td>Középkorú</td></tr>",
                            "<tr><td>1176</td><td>Fiatal</td></tr>",
                            "<tr><td>1194</td><td>Fiatal</td></tr>",
                            "<tr><td>1091</td><td>Fiatal</td></tr>",
                            "<tr><td>784</td><td>Fiatal</td></tr>",
                            "<tr><td>639</td><td>Fiatal</td></tr>",
                            "<tr><td>641</td><td>Fiatal</td></tr>",
                            "<tr><td>1292</td><td>Fiatal</td></tr>",
                            "<tr><td>1409</td><td>Fiatal</td></tr>",
                            "<tr><td>1397</td><td>Középkorú</td></tr>",
                            "<tr><td>1352</td><td>Középkorú</td></tr>",
                            "<tr><td>700</td><td>Középkorú</td></tr>",
                            "<tr><td>1168</td><td>Középkorú</td></tr>",
                            "<tr><td>915</td><td>Középkorú</td></tr>",
                            "<tr><td>907</td><td>Középkorú</td></tr>",
                            "<tr><td>668</td><td>Középkorú</td></tr>",
                            "<tr><td>615</td><td>Középkorú</td></tr>",
                            "<tr><td>1447</td><td>Középkorú</td></tr>",
                            "<tr><td>1547</td><td>Középkorú</td></tr>",
                            "<tr><td>968</td><td>Középkorú</td></tr>",
                            "<tr><td>917</td><td>Fiatal</td></tr>",
                            "<tr><td>930</td><td>Fiatal</td></tr>",
                            "<tr><td>580</td><td>Fiatal</td></tr>",
                            "<tr><td>743</td><td>Fiatal</td></tr>",
                            "<tr><td>598</td><td>Középkorú</td></tr>",
                            "<tr><td>630</td><td>Középkorú</td></tr>",
                            "<tr><td>685</td><td>Középkorú</td></tr>",
                            "<tr><td>970</td><td>Középkorú</td></tr>",
                            "<tr><td>1100</td><td>Középkorú</td></tr>",
                            "<tr><td>712</td><td>Középkorú</td></tr>",
                            "<tr><td>833</td><td>Középkorú</td></tr>",
                            "<tr><td>1327</td><td>Középkorú</td></tr>",
                            "<tr><td>740</td><td>Középkorú</td></tr>",
                            "<tr><td>1086</td><td>Középkorú</td></tr>",
                            "<tr><td>1206</td><td>Középkorú</td></tr>",
                            "<tr><td>1040</td><td>Középkorú</td></tr>",
                            "<tr><td>1025</td><td>Fiatal</td></tr>",
                            "<tr><td>650</td><td>Fiatal</td></tr>",
                            "<tr><td>1444</td><td>Fiatal</td></tr>",
                            "<tr><td>1300</td><td>Középkorú</td></tr>",
                            "<tr><td>579</td><td>Középkorú</td></tr>",
                            "<tr><td>868</td><td>Középkorú</td></tr>",
                            "<tr><td>1063</td><td>Középkorú</td></tr>",
                            "<tr><td>960</td><td>Középkorú</td></tr>",
                            "</table>"
                        ]
                    }
                }
            ],
            "execution_count": 27
        }
    ]
}