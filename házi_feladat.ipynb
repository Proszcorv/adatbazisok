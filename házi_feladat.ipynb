{
    "metadata": {
        "kernelspec": {
            "name": "SQL",
            "display_name": "SQL",
            "language": "sql"
        },
        "language_info": {
            "name": "sql",
            "version": ""
        }
    },
    "nbformat_minor": 2,
    "nbformat": 4,
    "cells": [
        {
            "cell_type": "code",
            "source": [
                "SELECT\n",
                "    AVG(LISTAAR) AS 'átlag', \n",
                "    STDEV(LISTAAR) AS 'szórás', \n",
                "    VAR(LISTAAR) AS 'variancia'\n",
                "FROM Termek\n",
                "WHERE LISTAAR IS NOT NULL\n",
                "--Árak átlaga, szórása és varianciája"
            ],
            "metadata": {
                "azdata_cell_guid": "3773140e-3b2b-447e-a049-49ffadd89e7a",
                "language": "sql"
            },
            "outputs": [
                {
                    "output_type": "display_data",
                    "data": {
                        "text/html": "(1 row affected)"
                    },
                    "metadata": {}
                },
                {
                    "output_type": "display_data",
                    "data": {
                        "text/html": "Total execution time: 00:00:00.014"
                    },
                    "metadata": {}
                },
                {
                    "output_type": "execute_result",
                    "metadata": {},
                    "execution_count": 63,
                    "data": {
                        "application/vnd.dataresource+json": {
                            "schema": {
                                "fields": [
                                    {
                                        "name": "átlag"
                                    },
                                    {
                                        "name": "szórás"
                                    },
                                    {
                                        "name": "variancia"
                                    }
                                ]
                            },
                            "data": [
                                {
                                    "átlag": "786.2813067150635",
                                    "szórás": "3602.4811630060694",
                                    "variancia": "12977870.529813562"
                                }
                            ]
                        },
                        "text/html": [
                            "<table>",
                            "<tr><th>átlag</th><th>szórás</th><th>variancia</th></tr>",
                            "<tr><td>786.2813067150635</td><td>3602.4811630060694</td><td>12977870.529813562</td></tr>",
                            "</table>"
                        ]
                    }
                }
            ],
            "execution_count": 63
        },
        {
            "cell_type": "code",
            "source": [
                "SELECT TOP 1 MEGNEVEZES, KESZLET\r\n",
                "FROM Termek\r\n",
                "GROUP BY MEGNEVEZES, KESZLET\r\n",
                "ORDER BY KESZLET DESC\r\n",
                "--Termék amiből a legtöbb van készleten\r\n",
                ""
            ],
            "metadata": {
                "azdata_cell_guid": "69663718-8f2f-4148-8022-cbbbf7bdf9f7",
                "language": "sql"
            },
            "outputs": [
                {
                    "output_type": "display_data",
                    "data": {
                        "text/html": "(1 row affected)"
                    },
                    "metadata": {}
                },
                {
                    "output_type": "display_data",
                    "data": {
                        "text/html": "Total execution time: 00:00:00.012"
                    },
                    "metadata": {}
                },
                {
                    "output_type": "execute_result",
                    "metadata": {},
                    "execution_count": 64,
                    "data": {
                        "application/vnd.dataresource+json": {
                            "schema": {
                                "fields": [
                                    {
                                        "name": "MEGNEVEZES"
                                    },
                                    {
                                        "name": "KESZLET"
                                    }
                                ]
                            },
                            "data": [
                                {
                                    "MEGNEVEZES": "Ajándék cs. tasak kicsi",
                                    "KESZLET": "50000"
                                }
                            ]
                        },
                        "text/html": [
                            "<table>",
                            "<tr><th>MEGNEVEZES</th><th>KESZLET</th></tr>",
                            "<tr><td>Ajándék cs. tasak kicsi</td><td>50000</td></tr>",
                            "</table>"
                        ]
                    }
                }
            ],
            "execution_count": 64
        },
        {
            "cell_type": "code",
            "source": [
                "SELECT TOP 5 MEGNEVEZES, KESZLET\r\n",
                "FROM Termek\r\n",
                "GROUP BY MEGNEVEZES, KESZLET\r\n",
                "ORDER BY KESZLET ASC\r\n",
                "--5 legkevesebb termék készleten"
            ],
            "metadata": {
                "azdata_cell_guid": "bc06e257-06c3-4a06-b0cf-e1704f057f7d",
                "language": "sql"
            },
            "outputs": [
                {
                    "output_type": "display_data",
                    "data": {
                        "text/html": "(5 rows affected)"
                    },
                    "metadata": {}
                },
                {
                    "output_type": "display_data",
                    "data": {
                        "text/html": "Total execution time: 00:00:00.012"
                    },
                    "metadata": {}
                },
                {
                    "output_type": "execute_result",
                    "metadata": {},
                    "execution_count": 65,
                    "data": {
                        "application/vnd.dataresource+json": {
                            "schema": {
                                "fields": [
                                    {
                                        "name": "MEGNEVEZES"
                                    },
                                    {
                                        "name": "KESZLET"
                                    }
                                ]
                            },
                            "data": [
                                {
                                    "MEGNEVEZES": "Leckefüzet",
                                    "KESZLET": "0"
                                },
                                {
                                    "MEGNEVEZES": "Rovatolt papír 20 íves",
                                    "KESZLET": "0"
                                },
                                {
                                    "MEGNEVEZES": "női alsó",
                                    "KESZLET": "53"
                                },
                                {
                                    "MEGNEVEZES": "női szövet kabát",
                                    "KESZLET": "77"
                                },
                                {
                                    "MEGNEVEZES": "sál",
                                    "KESZLET": "77"
                                }
                            ]
                        },
                        "text/html": [
                            "<table>",
                            "<tr><th>MEGNEVEZES</th><th>KESZLET</th></tr>",
                            "<tr><td>Leckefüzet</td><td>0</td></tr>",
                            "<tr><td>Rovatolt papír 20 íves</td><td>0</td></tr>",
                            "<tr><td>női alsó</td><td>53</td></tr>",
                            "<tr><td>női szövet kabát</td><td>77</td></tr>",
                            "<tr><td>sál</td><td>77</td></tr>",
                            "</table>"
                        ]
                    }
                }
            ],
            "execution_count": 65
        },
        {
            "cell_type": "code",
            "source": [
                "SELECT\r\n",
                "    FELVITTE AS 'Név', \r\n",
                "    COUNT(*) AS 'DB sor'\r\n",
                "FROM Termek\r\n",
                "WHERE FELVITTE IS NOT null\r\n",
                "GROUP BY FELVITTE\r\n",
                "ORDER BY COUNT(*) desc\r\n",
                "--Melyik a leggyakoribb adat, ki vitte fel a legtöbb sort"
            ],
            "metadata": {
                "azdata_cell_guid": "8c934896-937c-4ebe-9eb6-565015afdf62",
                "language": "sql"
            },
            "outputs": [
                {
                    "output_type": "display_data",
                    "data": {
                        "text/html": "(3 rows affected)"
                    },
                    "metadata": {}
                },
                {
                    "output_type": "display_data",
                    "data": {
                        "text/html": "Total execution time: 00:00:00.056"
                    },
                    "metadata": {}
                },
                {
                    "output_type": "execute_result",
                    "metadata": {},
                    "execution_count": 66,
                    "data": {
                        "application/vnd.dataresource+json": {
                            "schema": {
                                "fields": [
                                    {
                                        "name": "Név"
                                    },
                                    {
                                        "name": "DB sor"
                                    }
                                ]
                            },
                            "data": [
                                {
                                    "Név": "Béla",
                                    "DB sor": "189"
                                },
                                {
                                    "Név": "Sára",
                                    "DB sor": "188"
                                },
                                {
                                    "Név": "Mari",
                                    "DB sor": "174"
                                }
                            ]
                        },
                        "text/html": [
                            "<table>",
                            "<tr><th>Név</th><th>DB sor</th></tr>",
                            "<tr><td>Béla</td><td>189</td></tr>",
                            "<tr><td>Sára</td><td>188</td></tr>",
                            "<tr><td>Mari</td><td>174</td></tr>",
                            "</table>"
                        ]
                    }
                }
            ],
            "execution_count": 66
        },
        {
            "cell_type": "code",
            "source": [
                "SELECT kategória,\r\n",
                "    COUNT(*) db_sor\r\n",
                "FROM \r\n",
                "    (SELECT \r\n",
                "        CASE WHEN LEIRAS IS NULL THEN 'Null érték'\r\n",
                "            WHEN LEN(LEIRAS) = 0 THEN 'Üres'\r\n",
                "            ELSE 'Nem üres' \r\n",
                "            END AS kategória\r\n",
                "        FROM Termek) rows\r\n",
                "GROUP BY kategória\r\n",
                "--Hány NULL érték, üres és nem üres sor van"
            ],
            "metadata": {
                "azdata_cell_guid": "b58a3490-c0f0-4fcd-aba7-999544e4a3c4",
                "language": "sql"
            },
            "outputs": [
                {
                    "output_type": "display_data",
                    "data": {
                        "text/html": "(2 rows affected)"
                    },
                    "metadata": {}
                },
                {
                    "output_type": "display_data",
                    "data": {
                        "text/html": "Total execution time: 00:00:00.013"
                    },
                    "metadata": {}
                },
                {
                    "output_type": "execute_result",
                    "metadata": {},
                    "execution_count": 67,
                    "data": {
                        "application/vnd.dataresource+json": {
                            "schema": {
                                "fields": [
                                    {
                                        "name": "kategória"
                                    },
                                    {
                                        "name": "db_sor"
                                    }
                                ]
                            },
                            "data": [
                                {
                                    "kategória": "Nem üres",
                                    "db_sor": "24"
                                },
                                {
                                    "kategória": "Null érték",
                                    "db_sor": "527"
                                }
                            ]
                        },
                        "text/html": [
                            "<table>",
                            "<tr><th>kategória</th><th>db_sor</th></tr>",
                            "<tr><td>Nem üres</td><td>24</td></tr>",
                            "<tr><td>Null érték</td><td>527</td></tr>",
                            "</table>"
                        ]
                    }
                }
            ],
            "execution_count": 67
        }
    ]
}